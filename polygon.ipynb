{
 "cells": [
  {
   "cell_type": "code",
   "execution_count": 1,
   "metadata": {},
   "outputs": [],
   "source": [
    "import pandas as pd\n",
    "import requests\n",
    "import polygon"
   ]
  },
  {
   "cell_type": "code",
   "execution_count": 2,
   "metadata": {},
   "outputs": [],
   "source": [
    "api_key = \"c1LVL_w5bcBEXIfWB_jEPqyDJGirPl3Q\""
   ]
  },
  {
   "cell_type": "code",
   "execution_count": 3,
   "metadata": {},
   "outputs": [
    {
     "ename": "AttributeError",
     "evalue": "module 'polygon' has no attribute 'StocksClient'",
     "output_type": "error",
     "traceback": [
      "\u001b[1;31m---------------------------------------------------------------------------\u001b[0m",
      "\u001b[1;31mAttributeError\u001b[0m                            Traceback (most recent call last)",
      "\u001b[1;32mc:\\Users\\travi\\Desktop\\Stox\\polygon.ipynb Cell 3'\u001b[0m in \u001b[0;36m<cell line: 1>\u001b[1;34m()\u001b[0m\n\u001b[1;32m----> <a href='vscode-notebook-cell:/c%3A/Users/travi/Desktop/Stox/polygon.ipynb#ch0000002?line=0'>1</a>\u001b[0m stocks_client \u001b[39m=\u001b[39m polygon\u001b[39m.\u001b[39;49mStocksClient(api_key)\n\u001b[0;32m      <a href='vscode-notebook-cell:/c%3A/Users/travi/Desktop/Stox/polygon.ipynb#ch0000002?line=2'>3</a>\u001b[0m previous_close \u001b[39m=\u001b[39m stocks_client\u001b[39m.\u001b[39mget_previous_close(\u001b[39m'\u001b[39m\u001b[39mAAPL\u001b[39m\u001b[39m'\u001b[39m)\n\u001b[0;32m      <a href='vscode-notebook-cell:/c%3A/Users/travi/Desktop/Stox/polygon.ipynb#ch0000002?line=4'>5</a>\u001b[0m \u001b[39mprint\u001b[39m(previous_close)\n",
      "\u001b[1;31mAttributeError\u001b[0m: module 'polygon' has no attribute 'StocksClient'"
     ]
    }
   ],
   "source": [
    "stocks_client = polygon.StocksClient(api_key)\n",
    "\n",
    "previous_close = stocks_client.get_previous_close('AAPL')\n",
    "\n",
    "print(previous_close)"
   ]
  },
  {
   "cell_type": "code",
   "execution_count": null,
   "metadata": {},
   "outputs": [
    {
     "name": "stdout",
     "output_type": "stream",
     "text": [
      "<class 'dict'>\n"
     ]
    }
   ],
   "source": [
    "print(type(previous_close))"
   ]
  },
  {
   "cell_type": "code",
   "execution_count": null,
   "metadata": {},
   "outputs": [],
   "source": [
    "df = pd.DataFrame(previous_close)"
   ]
  },
  {
   "cell_type": "code",
   "execution_count": null,
   "metadata": {},
   "outputs": [
    {
     "data": {
      "text/html": [
       "<div>\n",
       "<style scoped>\n",
       "    .dataframe tbody tr th:only-of-type {\n",
       "        vertical-align: middle;\n",
       "    }\n",
       "\n",
       "    .dataframe tbody tr th {\n",
       "        vertical-align: top;\n",
       "    }\n",
       "\n",
       "    .dataframe thead th {\n",
       "        text-align: right;\n",
       "    }\n",
       "</style>\n",
       "<table border=\"1\" class=\"dataframe\">\n",
       "  <thead>\n",
       "    <tr style=\"text-align: right;\">\n",
       "      <th></th>\n",
       "      <th>ticker</th>\n",
       "      <th>queryCount</th>\n",
       "      <th>resultsCount</th>\n",
       "      <th>adjusted</th>\n",
       "      <th>results</th>\n",
       "      <th>status</th>\n",
       "      <th>request_id</th>\n",
       "      <th>count</th>\n",
       "    </tr>\n",
       "  </thead>\n",
       "  <tbody>\n",
       "    <tr>\n",
       "      <th>0</th>\n",
       "      <td>AAPL</td>\n",
       "      <td>1</td>\n",
       "      <td>1</td>\n",
       "      <td>True</td>\n",
       "      <td>{'T': 'AAPL', 'v': 71051552.0, 'vw': 137.4774,...</td>\n",
       "      <td>OK</td>\n",
       "      <td>0309853e659267ee3ba6094f8055427e</td>\n",
       "      <td>1</td>\n",
       "    </tr>\n",
       "  </tbody>\n",
       "</table>\n",
       "</div>"
      ],
      "text/plain": [
       "  ticker  queryCount  resultsCount  adjusted  \\\n",
       "0   AAPL           1             1      True   \n",
       "\n",
       "                                             results status  \\\n",
       "0  {'T': 'AAPL', 'v': 71051552.0, 'vw': 137.4774,...     OK   \n",
       "\n",
       "                         request_id  count  \n",
       "0  0309853e659267ee3ba6094f8055427e      1  "
      ]
     },
     "execution_count": 83,
     "metadata": {},
     "output_type": "execute_result"
    }
   ],
   "source": [
    "df"
   ]
  },
  {
   "cell_type": "code",
   "execution_count": null,
   "metadata": {},
   "outputs": [
    {
     "name": "stderr",
     "output_type": "stream",
     "text": [
      "<>:1: SyntaxWarning: list indices must be integers or slices, not str; perhaps you missed a comma?\n",
      "<>:1: SyntaxWarning: list indices must be integers or slices, not str; perhaps you missed a comma?\n",
      "C:\\Users\\travi\\AppData\\Local\\Temp\\ipykernel_8796\\351936472.py:1: SyntaxWarning: list indices must be integers or slices, not str; perhaps you missed a comma?\n",
      "  df([0]['vw'])\n",
      "C:\\Users\\travi\\AppData\\Local\\Temp\\ipykernel_8796\\351936472.py:1: SyntaxWarning: list indices must be integers or slices, not str; perhaps you missed a comma?\n",
      "  df([0]['vw'])\n",
      "C:\\Users\\travi\\AppData\\Local\\Temp\\ipykernel_8796\\351936472.py:1: SyntaxWarning: list indices must be integers or slices, not str; perhaps you missed a comma?\n",
      "  df([0]['vw'])\n"
     ]
    },
    {
     "ename": "TypeError",
     "evalue": "list indices must be integers or slices, not str",
     "output_type": "error",
     "traceback": [
      "\u001b[1;31m---------------------------------------------------------------------------\u001b[0m",
      "\u001b[1;31mTypeError\u001b[0m                                 Traceback (most recent call last)",
      "\u001b[1;32mc:\\Users\\travi\\Desktop\\Stox\\one.ipynb Cell 7'\u001b[0m in \u001b[0;36m<cell line: 1>\u001b[1;34m()\u001b[0m\n\u001b[1;32m----> <a href='vscode-notebook-cell:/c%3A/Users/travi/Desktop/Stox/one.ipynb#ch0000007?line=0'>1</a>\u001b[0m df([\u001b[39m0\u001b[39;49m][\u001b[39m'\u001b[39;49m\u001b[39mvw\u001b[39;49m\u001b[39m'\u001b[39;49m])\n",
      "\u001b[1;31mTypeError\u001b[0m: list indices must be integers or slices, not str"
     ]
    }
   ],
   "source": [
    "df([0]['vw'])"
   ]
  },
  {
   "cell_type": "code",
   "execution_count": null,
   "metadata": {},
   "outputs": [
    {
     "data": {
      "text/html": [
       "<div>\n",
       "<style scoped>\n",
       "    .dataframe tbody tr th:only-of-type {\n",
       "        vertical-align: middle;\n",
       "    }\n",
       "\n",
       "    .dataframe tbody tr th {\n",
       "        vertical-align: top;\n",
       "    }\n",
       "\n",
       "    .dataframe thead th {\n",
       "        text-align: right;\n",
       "    }\n",
       "</style>\n",
       "<table border=\"1\" class=\"dataframe\">\n",
       "  <thead>\n",
       "    <tr style=\"text-align: right;\">\n",
       "      <th></th>\n",
       "      <th>ticker</th>\n",
       "      <th>queryCount</th>\n",
       "      <th>resultsCount</th>\n",
       "      <th>adjusted</th>\n",
       "      <th>results</th>\n",
       "      <th>status</th>\n",
       "      <th>request_id</th>\n",
       "      <th>count</th>\n",
       "    </tr>\n",
       "  </thead>\n",
       "  <tbody>\n",
       "    <tr>\n",
       "      <th>0</th>\n",
       "      <td>AAPL</td>\n",
       "      <td>1</td>\n",
       "      <td>1</td>\n",
       "      <td>True</td>\n",
       "      <td>{'T': 'AAPL', 'v': 71051552.0, 'vw': 137.4774,...</td>\n",
       "      <td>OK</td>\n",
       "      <td>0309853e659267ee3ba6094f8055427e</td>\n",
       "      <td>1</td>\n",
       "    </tr>\n",
       "  </tbody>\n",
       "</table>\n",
       "</div>"
      ],
      "text/plain": [
       "  ticker  queryCount  resultsCount  adjusted  \\\n",
       "0   AAPL           1             1      True   \n",
       "\n",
       "                                             results status  \\\n",
       "0  {'T': 'AAPL', 'v': 71051552.0, 'vw': 137.4774,...     OK   \n",
       "\n",
       "                         request_id  count  \n",
       "0  0309853e659267ee3ba6094f8055427e      1  "
      ]
     },
     "execution_count": 77,
     "metadata": {},
     "output_type": "execute_result"
    }
   ],
   "source": [
    "df"
   ]
  }
 ],
 "metadata": {
  "kernelspec": {
   "display_name": "Python 3.10.5 ('venv': venv)",
   "language": "python",
   "name": "python3"
  },
  "language_info": {
   "codemirror_mode": {
    "name": "ipython",
    "version": 3
   },
   "file_extension": ".py",
   "mimetype": "text/x-python",
   "name": "python",
   "nbconvert_exporter": "python",
   "pygments_lexer": "ipython3",
   "version": "3.10.5"
  },
  "orig_nbformat": 4,
  "vscode": {
   "interpreter": {
    "hash": "187d4047809db7fad23631ebdde01d609bfa49ad6af2cad894bfbc3976e77d85"
   }
  }
 },
 "nbformat": 4,
 "nbformat_minor": 2
}
