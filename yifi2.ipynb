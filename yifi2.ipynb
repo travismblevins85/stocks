{
 "cells": [
  {
   "cell_type": "code",
   "execution_count": 242,
   "metadata": {},
   "outputs": [],
   "source": [
    "from yfapi import YahooFinanceAPI, Interval\n",
    "from datetime import datetime, timedelta\n",
    "import pandas as pd \n",
    "import numpy as np\n",
    "import matplotlib.pyplot as plt\n",
    "from pandas import DataFrame\n",
    "from functools import reduce\n",
    "from sklearn.datasets import load_iris\n",
    "import plotly.graph_objects as go\n",
    "import nbformat\n"
   ]
  },
  {
   "cell_type": "markdown",
   "metadata": {},
   "source": [
    "**Install all of these libraries to run correctly,\n",
    "preferably into a virtual env that you've made.  With\n",
    "some, especially plotly.graph_objects, you may have to restart your source code editor.**"
   ]
  },
  {
   "cell_type": "code",
   "execution_count": 243,
   "metadata": {},
   "outputs": [],
   "source": [
    "dh = YahooFinanceAPI(Interval.DAILY)\n",
    "now = datetime(2022, 7, 13)\n",
    "then = datetime(2022, 1, 13)\n",
    "\n",
    "\n",
    "data_dict = dh.get_data_for_tickers(['msft', 'aapl', 'amzn'], then, now)"
   ]
  },
  {
   "cell_type": "code",
   "execution_count": 244,
   "metadata": {},
   "outputs": [],
   "source": [
    "df = data_dict['msft']\n",
    "df1 = data_dict['aapl']\n",
    "df2 = data_dict['amzn']"
   ]
  },
  {
   "cell_type": "markdown",
   "metadata": {},
   "source": [
    "_Pull in 3 stock tickers data from the YahooFinanceAPI_"
   ]
  },
  {
   "cell_type": "code",
   "execution_count": 245,
   "metadata": {},
   "outputs": [],
   "source": [
    "df_ = df.rename(columns={'Open':'MSFT_OPEN', 'High':'MSFT_HIGH', 'Low':'MSFT_LOW', 'Close':'MSFT_CLOSE', 'Adj Close':'MSFT_ADJ_CLOSE', 'Volume':'MSFT_VOLUME'})"
   ]
  },
  {
   "cell_type": "code",
   "execution_count": 246,
   "metadata": {},
   "outputs": [],
   "source": [
    "df_1 = df1.rename(columns= {'Open':'AAPL_OPEN', 'High':'AAPL_HIGH', 'Low':'AAPL_LOW', 'Close':'AAPL_CLOSE', 'Adj Close':'AAPL_ADJ_CLOSE', 'Volume':'AAPL_VOLUME'})"
   ]
  },
  {
   "cell_type": "code",
   "execution_count": 247,
   "metadata": {},
   "outputs": [],
   "source": [
    "df_2 = df2.rename(columns= {'Open':'AMZN_OPEN', 'High':'AMZN_HIGH', 'Low':'AMZN_LOW', 'Close':'AMZN_CLOSE', 'Adj Close':'AMZN_ADJ_CLOSE', 'Volume':'AMZN_VOLUME'})"
   ]
  },
  {
   "cell_type": "markdown",
   "metadata": {},
   "source": [
    "_Made each separate stock a dataframe, then renamed the columns for each stock to differentiate which stock data is which_"
   ]
  },
  {
   "cell_type": "code",
   "execution_count": 248,
   "metadata": {},
   "outputs": [
    {
     "name": "stdout",
     "output_type": "stream",
     "text": [
      "<class 'pandas.core.frame.DataFrame'>\n",
      "RangeIndex: 123 entries, 0 to 122\n",
      "Data columns (total 7 columns):\n",
      " #   Column     Non-Null Count  Dtype         \n",
      "---  ------     --------------  -----         \n",
      " 0   Date       123 non-null    datetime64[ns]\n",
      " 1   Open       123 non-null    float64       \n",
      " 2   High       123 non-null    float64       \n",
      " 3   Low        123 non-null    float64       \n",
      " 4   Close      123 non-null    float64       \n",
      " 5   Adj Close  123 non-null    float64       \n",
      " 6   Volume     123 non-null    int64         \n",
      "dtypes: datetime64[ns](1), float64(5), int64(1)\n",
      "memory usage: 6.9 KB\n"
     ]
    }
   ],
   "source": [
    "df.info()"
   ]
  },
  {
   "cell_type": "code",
   "execution_count": 249,
   "metadata": {},
   "outputs": [
    {
     "name": "stdout",
     "output_type": "stream",
     "text": [
      "<class 'pandas.core.frame.DataFrame'>\n",
      "RangeIndex: 123 entries, 0 to 122\n",
      "Data columns (total 7 columns):\n",
      " #   Column     Non-Null Count  Dtype         \n",
      "---  ------     --------------  -----         \n",
      " 0   Date       123 non-null    datetime64[ns]\n",
      " 1   Open       123 non-null    float64       \n",
      " 2   High       123 non-null    float64       \n",
      " 3   Low        123 non-null    float64       \n",
      " 4   Close      123 non-null    float64       \n",
      " 5   Adj Close  123 non-null    float64       \n",
      " 6   Volume     123 non-null    int64         \n",
      "dtypes: datetime64[ns](1), float64(5), int64(1)\n",
      "memory usage: 6.9 KB\n"
     ]
    }
   ],
   "source": [
    "df1.info()"
   ]
  },
  {
   "cell_type": "code",
   "execution_count": 250,
   "metadata": {},
   "outputs": [
    {
     "name": "stdout",
     "output_type": "stream",
     "text": [
      "<class 'pandas.core.frame.DataFrame'>\n",
      "RangeIndex: 123 entries, 0 to 122\n",
      "Data columns (total 7 columns):\n",
      " #   Column     Non-Null Count  Dtype         \n",
      "---  ------     --------------  -----         \n",
      " 0   Date       123 non-null    datetime64[ns]\n",
      " 1   Open       123 non-null    float64       \n",
      " 2   High       123 non-null    float64       \n",
      " 3   Low        123 non-null    float64       \n",
      " 4   Close      123 non-null    float64       \n",
      " 5   Adj Close  123 non-null    float64       \n",
      " 6   Volume     123 non-null    int64         \n",
      "dtypes: datetime64[ns](1), float64(5), int64(1)\n",
      "memory usage: 6.9 KB\n"
     ]
    }
   ],
   "source": [
    "df2.info()"
   ]
  },
  {
   "cell_type": "markdown",
   "metadata": {},
   "source": [
    "_See that each dataframe has 123 entries and their datatypes_"
   ]
  },
  {
   "cell_type": "code",
   "execution_count": 251,
   "metadata": {},
   "outputs": [
    {
     "data": {
      "text/plain": [
       "0      7\n",
       "1      7\n",
       "2      7\n",
       "3      7\n",
       "4      7\n",
       "      ..\n",
       "118    6\n",
       "119    6\n",
       "120    6\n",
       "121    6\n",
       "122    6\n",
       "Length: 123, dtype: int64"
      ]
     },
     "execution_count": 251,
     "metadata": {},
     "output_type": "execute_result"
    }
   ],
   "source": [
    "df.nunique(axis=1)"
   ]
  },
  {
   "cell_type": "code",
   "execution_count": 252,
   "metadata": {},
   "outputs": [
    {
     "data": {
      "text/plain": [
       "Date         123\n",
       "Open         123\n",
       "High         123\n",
       "Low          122\n",
       "Close        122\n",
       "Adj Close    122\n",
       "Volume       123\n",
       "dtype: int64"
      ]
     },
     "execution_count": 252,
     "metadata": {},
     "output_type": "execute_result"
    }
   ],
   "source": [
    "df.nunique(axis=0)"
   ]
  },
  {
   "cell_type": "markdown",
   "metadata": {},
   "source": [
    "_See each unique entry of data per column_"
   ]
  },
  {
   "cell_type": "code",
   "execution_count": 253,
   "metadata": {},
   "outputs": [],
   "source": [
    "df3= [df_, df_1, df_2]"
   ]
  },
  {
   "cell_type": "markdown",
   "metadata": {},
   "source": [
    "_Combining all 3 dataframes together_"
   ]
  },
  {
   "cell_type": "code",
   "execution_count": 259,
   "metadata": {},
   "outputs": [
    {
     "name": "stdout",
     "output_type": "stream",
     "text": [
      "list\n"
     ]
    }
   ],
   "source": [
    "if type(df3) is list:\n",
    "    print(\"list\")"
   ]
  },
  {
   "cell_type": "markdown",
   "metadata": {},
   "source": [
    "_So the combination of the 3, returns a list, so I need to merge them together_"
   ]
  },
  {
   "cell_type": "code",
   "execution_count": null,
   "metadata": {},
   "outputs": [],
   "source": [
    "stock = reduce(lambda left,right: pd.merge(left, right, on=['Date'], how='outer'),df3 )"
   ]
  },
  {
   "cell_type": "markdown",
   "metadata": {},
   "source": [
    "_Merge the 3 dataframes together_"
   ]
  },
  {
   "cell_type": "code",
   "execution_count": null,
   "metadata": {},
   "outputs": [
    {
     "data": {
      "text/html": [
       "<div>\n",
       "<style scoped>\n",
       "    .dataframe tbody tr th:only-of-type {\n",
       "        vertical-align: middle;\n",
       "    }\n",
       "\n",
       "    .dataframe tbody tr th {\n",
       "        vertical-align: top;\n",
       "    }\n",
       "\n",
       "    .dataframe thead th {\n",
       "        text-align: right;\n",
       "    }\n",
       "</style>\n",
       "<table border=\"1\" class=\"dataframe\">\n",
       "  <thead>\n",
       "    <tr style=\"text-align: right;\">\n",
       "      <th></th>\n",
       "      <th>Date</th>\n",
       "      <th>MSFT_OPEN</th>\n",
       "      <th>MSFT_HIGH</th>\n",
       "      <th>MSFT_LOW</th>\n",
       "      <th>MSFT_CLOSE</th>\n",
       "      <th>MSFT_ADJ_CLOSE</th>\n",
       "      <th>MSFT_VOLUME</th>\n",
       "      <th>AAPL_OPEN</th>\n",
       "      <th>AAPL_HIGH</th>\n",
       "      <th>AAPL_LOW</th>\n",
       "      <th>AAPL_CLOSE</th>\n",
       "      <th>AAPL_ADJ_CLOSE</th>\n",
       "      <th>AAPL_VOLUME</th>\n",
       "      <th>AMZN_OPEN</th>\n",
       "      <th>AMZN_HIGH</th>\n",
       "      <th>AMZN_LOW</th>\n",
       "      <th>AMZN_CLOSE</th>\n",
       "      <th>AMZN_ADJ_CLOSE</th>\n",
       "      <th>AMZN_VOLUME</th>\n",
       "    </tr>\n",
       "  </thead>\n",
       "  <tbody>\n",
       "    <tr>\n",
       "      <th>0</th>\n",
       "      <td>2022-01-13</td>\n",
       "      <td>320.470001</td>\n",
       "      <td>320.880005</td>\n",
       "      <td>304.000000</td>\n",
       "      <td>304.799988</td>\n",
       "      <td>303.464264</td>\n",
       "      <td>45366000</td>\n",
       "      <td>175.779999</td>\n",
       "      <td>176.619995</td>\n",
       "      <td>171.789993</td>\n",
       "      <td>172.190002</td>\n",
       "      <td>171.718597</td>\n",
       "      <td>84505800</td>\n",
       "      <td>165.250504</td>\n",
       "      <td>166.221497</td>\n",
       "      <td>161.091003</td>\n",
       "      <td>161.214005</td>\n",
       "      <td>161.214005</td>\n",
       "      <td>52188000</td>\n",
       "    </tr>\n",
       "    <tr>\n",
       "      <th>1</th>\n",
       "      <td>2022-01-14</td>\n",
       "      <td>304.250000</td>\n",
       "      <td>310.820007</td>\n",
       "      <td>303.750000</td>\n",
       "      <td>310.200012</td>\n",
       "      <td>308.840607</td>\n",
       "      <td>39846400</td>\n",
       "      <td>171.339996</td>\n",
       "      <td>173.779999</td>\n",
       "      <td>171.089996</td>\n",
       "      <td>173.070007</td>\n",
       "      <td>172.596207</td>\n",
       "      <td>80440800</td>\n",
       "      <td>160.149994</td>\n",
       "      <td>162.250000</td>\n",
       "      <td>159.800507</td>\n",
       "      <td>162.138000</td>\n",
       "      <td>162.138000</td>\n",
       "      <td>45974000</td>\n",
       "    </tr>\n",
       "    <tr>\n",
       "      <th>2</th>\n",
       "      <td>2022-01-18</td>\n",
       "      <td>304.070007</td>\n",
       "      <td>309.799988</td>\n",
       "      <td>301.739990</td>\n",
       "      <td>302.649994</td>\n",
       "      <td>301.323669</td>\n",
       "      <td>42333200</td>\n",
       "      <td>171.509995</td>\n",
       "      <td>172.539993</td>\n",
       "      <td>169.410004</td>\n",
       "      <td>169.800003</td>\n",
       "      <td>169.335144</td>\n",
       "      <td>90956700</td>\n",
       "      <td>159.104996</td>\n",
       "      <td>159.734497</td>\n",
       "      <td>157.664505</td>\n",
       "      <td>158.917496</td>\n",
       "      <td>158.917496</td>\n",
       "      <td>67292000</td>\n",
       "    </tr>\n",
       "    <tr>\n",
       "      <th>3</th>\n",
       "      <td>2022-01-19</td>\n",
       "      <td>306.290009</td>\n",
       "      <td>313.910004</td>\n",
       "      <td>302.700012</td>\n",
       "      <td>303.329987</td>\n",
       "      <td>302.000702</td>\n",
       "      <td>45933900</td>\n",
       "      <td>170.000000</td>\n",
       "      <td>171.080002</td>\n",
       "      <td>165.940002</td>\n",
       "      <td>166.229996</td>\n",
       "      <td>165.774918</td>\n",
       "      <td>94815000</td>\n",
       "      <td>158.761993</td>\n",
       "      <td>159.250000</td>\n",
       "      <td>156.250000</td>\n",
       "      <td>156.298996</td>\n",
       "      <td>156.298996</td>\n",
       "      <td>53242000</td>\n",
       "    </tr>\n",
       "    <tr>\n",
       "      <th>4</th>\n",
       "      <td>2022-01-20</td>\n",
       "      <td>309.070007</td>\n",
       "      <td>311.649994</td>\n",
       "      <td>301.140015</td>\n",
       "      <td>301.600006</td>\n",
       "      <td>300.278290</td>\n",
       "      <td>35380700</td>\n",
       "      <td>166.979996</td>\n",
       "      <td>169.679993</td>\n",
       "      <td>164.179993</td>\n",
       "      <td>164.509995</td>\n",
       "      <td>164.059616</td>\n",
       "      <td>91420500</td>\n",
       "      <td>156.766006</td>\n",
       "      <td>158.000000</td>\n",
       "      <td>151.350998</td>\n",
       "      <td>151.667496</td>\n",
       "      <td>151.667496</td>\n",
       "      <td>71974000</td>\n",
       "    </tr>\n",
       "    <tr>\n",
       "      <th>...</th>\n",
       "      <td>...</td>\n",
       "      <td>...</td>\n",
       "      <td>...</td>\n",
       "      <td>...</td>\n",
       "      <td>...</td>\n",
       "      <td>...</td>\n",
       "      <td>...</td>\n",
       "      <td>...</td>\n",
       "      <td>...</td>\n",
       "      <td>...</td>\n",
       "      <td>...</td>\n",
       "      <td>...</td>\n",
       "      <td>...</td>\n",
       "      <td>...</td>\n",
       "      <td>...</td>\n",
       "      <td>...</td>\n",
       "      <td>...</td>\n",
       "      <td>...</td>\n",
       "      <td>...</td>\n",
       "    </tr>\n",
       "    <tr>\n",
       "      <th>118</th>\n",
       "      <td>2022-07-06</td>\n",
       "      <td>263.750000</td>\n",
       "      <td>267.989990</td>\n",
       "      <td>262.399994</td>\n",
       "      <td>266.209991</td>\n",
       "      <td>266.209991</td>\n",
       "      <td>23824400</td>\n",
       "      <td>141.350006</td>\n",
       "      <td>144.119995</td>\n",
       "      <td>141.080002</td>\n",
       "      <td>142.919998</td>\n",
       "      <td>142.919998</td>\n",
       "      <td>74064300</td>\n",
       "      <td>113.209999</td>\n",
       "      <td>115.480003</td>\n",
       "      <td>112.010002</td>\n",
       "      <td>114.330002</td>\n",
       "      <td>114.330002</td>\n",
       "      <td>66958900</td>\n",
       "    </tr>\n",
       "    <tr>\n",
       "      <th>119</th>\n",
       "      <td>2022-07-07</td>\n",
       "      <td>265.119995</td>\n",
       "      <td>269.059998</td>\n",
       "      <td>265.019989</td>\n",
       "      <td>268.399994</td>\n",
       "      <td>268.399994</td>\n",
       "      <td>20859900</td>\n",
       "      <td>143.289993</td>\n",
       "      <td>146.550003</td>\n",
       "      <td>143.279999</td>\n",
       "      <td>146.350006</td>\n",
       "      <td>146.350006</td>\n",
       "      <td>66253700</td>\n",
       "      <td>113.849998</td>\n",
       "      <td>116.989998</td>\n",
       "      <td>113.489998</td>\n",
       "      <td>116.330002</td>\n",
       "      <td>116.330002</td>\n",
       "      <td>57872300</td>\n",
       "    </tr>\n",
       "    <tr>\n",
       "      <th>120</th>\n",
       "      <td>2022-07-08</td>\n",
       "      <td>264.790009</td>\n",
       "      <td>268.100006</td>\n",
       "      <td>263.290009</td>\n",
       "      <td>267.660004</td>\n",
       "      <td>267.660004</td>\n",
       "      <td>19648100</td>\n",
       "      <td>145.259995</td>\n",
       "      <td>147.550003</td>\n",
       "      <td>145.000000</td>\n",
       "      <td>147.039993</td>\n",
       "      <td>147.039993</td>\n",
       "      <td>64493200</td>\n",
       "      <td>114.599998</td>\n",
       "      <td>116.580002</td>\n",
       "      <td>113.690002</td>\n",
       "      <td>115.540001</td>\n",
       "      <td>115.540001</td>\n",
       "      <td>45658200</td>\n",
       "    </tr>\n",
       "    <tr>\n",
       "      <th>121</th>\n",
       "      <td>2022-07-11</td>\n",
       "      <td>265.649994</td>\n",
       "      <td>266.529999</td>\n",
       "      <td>262.179993</td>\n",
       "      <td>264.510010</td>\n",
       "      <td>264.510010</td>\n",
       "      <td>19455200</td>\n",
       "      <td>145.669998</td>\n",
       "      <td>146.639999</td>\n",
       "      <td>143.779999</td>\n",
       "      <td>144.869995</td>\n",
       "      <td>144.869995</td>\n",
       "      <td>63141600</td>\n",
       "      <td>114.080002</td>\n",
       "      <td>114.300003</td>\n",
       "      <td>110.870003</td>\n",
       "      <td>111.750000</td>\n",
       "      <td>111.750000</td>\n",
       "      <td>53487600</td>\n",
       "    </tr>\n",
       "    <tr>\n",
       "      <th>122</th>\n",
       "      <td>2022-07-12</td>\n",
       "      <td>265.880005</td>\n",
       "      <td>265.940002</td>\n",
       "      <td>252.039993</td>\n",
       "      <td>253.669998</td>\n",
       "      <td>253.669998</td>\n",
       "      <td>35868500</td>\n",
       "      <td>145.759995</td>\n",
       "      <td>148.449997</td>\n",
       "      <td>145.050003</td>\n",
       "      <td>145.860001</td>\n",
       "      <td>145.860001</td>\n",
       "      <td>77588800</td>\n",
       "      <td>112.160004</td>\n",
       "      <td>113.230003</td>\n",
       "      <td>108.339996</td>\n",
       "      <td>109.220001</td>\n",
       "      <td>109.220001</td>\n",
       "      <td>54280300</td>\n",
       "    </tr>\n",
       "  </tbody>\n",
       "</table>\n",
       "<p>123 rows × 19 columns</p>\n",
       "</div>"
      ],
      "text/plain": [
       "          Date   MSFT_OPEN   MSFT_HIGH    MSFT_LOW  MSFT_CLOSE  \\\n",
       "0   2022-01-13  320.470001  320.880005  304.000000  304.799988   \n",
       "1   2022-01-14  304.250000  310.820007  303.750000  310.200012   \n",
       "2   2022-01-18  304.070007  309.799988  301.739990  302.649994   \n",
       "3   2022-01-19  306.290009  313.910004  302.700012  303.329987   \n",
       "4   2022-01-20  309.070007  311.649994  301.140015  301.600006   \n",
       "..         ...         ...         ...         ...         ...   \n",
       "118 2022-07-06  263.750000  267.989990  262.399994  266.209991   \n",
       "119 2022-07-07  265.119995  269.059998  265.019989  268.399994   \n",
       "120 2022-07-08  264.790009  268.100006  263.290009  267.660004   \n",
       "121 2022-07-11  265.649994  266.529999  262.179993  264.510010   \n",
       "122 2022-07-12  265.880005  265.940002  252.039993  253.669998   \n",
       "\n",
       "     MSFT_ADJ_CLOSE  MSFT_VOLUME   AAPL_OPEN   AAPL_HIGH    AAPL_LOW  \\\n",
       "0        303.464264     45366000  175.779999  176.619995  171.789993   \n",
       "1        308.840607     39846400  171.339996  173.779999  171.089996   \n",
       "2        301.323669     42333200  171.509995  172.539993  169.410004   \n",
       "3        302.000702     45933900  170.000000  171.080002  165.940002   \n",
       "4        300.278290     35380700  166.979996  169.679993  164.179993   \n",
       "..              ...          ...         ...         ...         ...   \n",
       "118      266.209991     23824400  141.350006  144.119995  141.080002   \n",
       "119      268.399994     20859900  143.289993  146.550003  143.279999   \n",
       "120      267.660004     19648100  145.259995  147.550003  145.000000   \n",
       "121      264.510010     19455200  145.669998  146.639999  143.779999   \n",
       "122      253.669998     35868500  145.759995  148.449997  145.050003   \n",
       "\n",
       "     AAPL_CLOSE  AAPL_ADJ_CLOSE  AAPL_VOLUME   AMZN_OPEN   AMZN_HIGH  \\\n",
       "0    172.190002      171.718597     84505800  165.250504  166.221497   \n",
       "1    173.070007      172.596207     80440800  160.149994  162.250000   \n",
       "2    169.800003      169.335144     90956700  159.104996  159.734497   \n",
       "3    166.229996      165.774918     94815000  158.761993  159.250000   \n",
       "4    164.509995      164.059616     91420500  156.766006  158.000000   \n",
       "..          ...             ...          ...         ...         ...   \n",
       "118  142.919998      142.919998     74064300  113.209999  115.480003   \n",
       "119  146.350006      146.350006     66253700  113.849998  116.989998   \n",
       "120  147.039993      147.039993     64493200  114.599998  116.580002   \n",
       "121  144.869995      144.869995     63141600  114.080002  114.300003   \n",
       "122  145.860001      145.860001     77588800  112.160004  113.230003   \n",
       "\n",
       "       AMZN_LOW  AMZN_CLOSE  AMZN_ADJ_CLOSE  AMZN_VOLUME  \n",
       "0    161.091003  161.214005      161.214005     52188000  \n",
       "1    159.800507  162.138000      162.138000     45974000  \n",
       "2    157.664505  158.917496      158.917496     67292000  \n",
       "3    156.250000  156.298996      156.298996     53242000  \n",
       "4    151.350998  151.667496      151.667496     71974000  \n",
       "..          ...         ...             ...          ...  \n",
       "118  112.010002  114.330002      114.330002     66958900  \n",
       "119  113.489998  116.330002      116.330002     57872300  \n",
       "120  113.690002  115.540001      115.540001     45658200  \n",
       "121  110.870003  111.750000      111.750000     53487600  \n",
       "122  108.339996  109.220001      109.220001     54280300  \n",
       "\n",
       "[123 rows x 19 columns]"
      ]
     },
     "execution_count": 239,
     "metadata": {},
     "output_type": "execute_result"
    }
   ],
   "source": [
    "stock"
   ]
  },
  {
   "cell_type": "code",
   "execution_count": 260,
   "metadata": {},
   "outputs": [
    {
     "data": {
      "text/plain": [
       "Index(['Date', 'MSFT_OPEN', 'MSFT_HIGH', 'MSFT_LOW', 'MSFT_CLOSE',\n",
       "       'MSFT_ADJ_CLOSE', 'MSFT_VOLUME', 'AAPL_OPEN', 'AAPL_HIGH', 'AAPL_LOW',\n",
       "       'AAPL_CLOSE', 'AAPL_ADJ_CLOSE', 'AAPL_VOLUME', 'AMZN_OPEN', 'AMZN_HIGH',\n",
       "       'AMZN_LOW', 'AMZN_CLOSE', 'AMZN_ADJ_CLOSE', 'AMZN_VOLUME'],\n",
       "      dtype='object')"
      ]
     },
     "execution_count": 260,
     "metadata": {},
     "output_type": "execute_result"
    }
   ],
   "source": [
    "stock.columns"
   ]
  },
  {
   "cell_type": "code",
   "execution_count": null,
   "metadata": {},
   "outputs": [
    {
     "data": {
      "text/html": [
       "<div>\n",
       "<style scoped>\n",
       "    .dataframe tbody tr th:only-of-type {\n",
       "        vertical-align: middle;\n",
       "    }\n",
       "\n",
       "    .dataframe tbody tr th {\n",
       "        vertical-align: top;\n",
       "    }\n",
       "\n",
       "    .dataframe thead th {\n",
       "        text-align: right;\n",
       "    }\n",
       "</style>\n",
       "<table border=\"1\" class=\"dataframe\">\n",
       "  <thead>\n",
       "    <tr style=\"text-align: right;\">\n",
       "      <th></th>\n",
       "      <th>Date</th>\n",
       "      <th>MSFT_OPEN</th>\n",
       "      <th>MSFT_HIGH</th>\n",
       "      <th>MSFT_LOW</th>\n",
       "      <th>MSFT_CLOSE</th>\n",
       "      <th>MSFT_ADJ_CLOSE</th>\n",
       "      <th>MSFT_VOLUME</th>\n",
       "      <th>AAPL_OPEN</th>\n",
       "      <th>AAPL_HIGH</th>\n",
       "      <th>AAPL_LOW</th>\n",
       "      <th>AAPL_CLOSE</th>\n",
       "      <th>AAPL_ADJ_CLOSE</th>\n",
       "      <th>AAPL_VOLUME</th>\n",
       "      <th>AMZN_OPEN</th>\n",
       "      <th>AMZN_HIGH</th>\n",
       "      <th>AMZN_LOW</th>\n",
       "      <th>AMZN_CLOSE</th>\n",
       "      <th>AMZN_ADJ_CLOSE</th>\n",
       "      <th>AMZN_VOLUME</th>\n",
       "    </tr>\n",
       "  </thead>\n",
       "  <tbody>\n",
       "    <tr>\n",
       "      <th>0</th>\n",
       "      <td>2022-01-13</td>\n",
       "      <td>320.47</td>\n",
       "      <td>320.88</td>\n",
       "      <td>304.00</td>\n",
       "      <td>304.80</td>\n",
       "      <td>303.46</td>\n",
       "      <td>45366000</td>\n",
       "      <td>175.78</td>\n",
       "      <td>176.62</td>\n",
       "      <td>171.79</td>\n",
       "      <td>172.19</td>\n",
       "      <td>171.72</td>\n",
       "      <td>84505800</td>\n",
       "      <td>165.25</td>\n",
       "      <td>166.22</td>\n",
       "      <td>161.09</td>\n",
       "      <td>161.21</td>\n",
       "      <td>161.21</td>\n",
       "      <td>52188000</td>\n",
       "    </tr>\n",
       "    <tr>\n",
       "      <th>1</th>\n",
       "      <td>2022-01-14</td>\n",
       "      <td>304.25</td>\n",
       "      <td>310.82</td>\n",
       "      <td>303.75</td>\n",
       "      <td>310.20</td>\n",
       "      <td>308.84</td>\n",
       "      <td>39846400</td>\n",
       "      <td>171.34</td>\n",
       "      <td>173.78</td>\n",
       "      <td>171.09</td>\n",
       "      <td>173.07</td>\n",
       "      <td>172.60</td>\n",
       "      <td>80440800</td>\n",
       "      <td>160.15</td>\n",
       "      <td>162.25</td>\n",
       "      <td>159.80</td>\n",
       "      <td>162.14</td>\n",
       "      <td>162.14</td>\n",
       "      <td>45974000</td>\n",
       "    </tr>\n",
       "    <tr>\n",
       "      <th>2</th>\n",
       "      <td>2022-01-18</td>\n",
       "      <td>304.07</td>\n",
       "      <td>309.80</td>\n",
       "      <td>301.74</td>\n",
       "      <td>302.65</td>\n",
       "      <td>301.32</td>\n",
       "      <td>42333200</td>\n",
       "      <td>171.51</td>\n",
       "      <td>172.54</td>\n",
       "      <td>169.41</td>\n",
       "      <td>169.80</td>\n",
       "      <td>169.34</td>\n",
       "      <td>90956700</td>\n",
       "      <td>159.10</td>\n",
       "      <td>159.73</td>\n",
       "      <td>157.66</td>\n",
       "      <td>158.92</td>\n",
       "      <td>158.92</td>\n",
       "      <td>67292000</td>\n",
       "    </tr>\n",
       "    <tr>\n",
       "      <th>3</th>\n",
       "      <td>2022-01-19</td>\n",
       "      <td>306.29</td>\n",
       "      <td>313.91</td>\n",
       "      <td>302.70</td>\n",
       "      <td>303.33</td>\n",
       "      <td>302.00</td>\n",
       "      <td>45933900</td>\n",
       "      <td>170.00</td>\n",
       "      <td>171.08</td>\n",
       "      <td>165.94</td>\n",
       "      <td>166.23</td>\n",
       "      <td>165.77</td>\n",
       "      <td>94815000</td>\n",
       "      <td>158.76</td>\n",
       "      <td>159.25</td>\n",
       "      <td>156.25</td>\n",
       "      <td>156.30</td>\n",
       "      <td>156.30</td>\n",
       "      <td>53242000</td>\n",
       "    </tr>\n",
       "    <tr>\n",
       "      <th>4</th>\n",
       "      <td>2022-01-20</td>\n",
       "      <td>309.07</td>\n",
       "      <td>311.65</td>\n",
       "      <td>301.14</td>\n",
       "      <td>301.60</td>\n",
       "      <td>300.28</td>\n",
       "      <td>35380700</td>\n",
       "      <td>166.98</td>\n",
       "      <td>169.68</td>\n",
       "      <td>164.18</td>\n",
       "      <td>164.51</td>\n",
       "      <td>164.06</td>\n",
       "      <td>91420500</td>\n",
       "      <td>156.77</td>\n",
       "      <td>158.00</td>\n",
       "      <td>151.35</td>\n",
       "      <td>151.67</td>\n",
       "      <td>151.67</td>\n",
       "      <td>71974000</td>\n",
       "    </tr>\n",
       "    <tr>\n",
       "      <th>...</th>\n",
       "      <td>...</td>\n",
       "      <td>...</td>\n",
       "      <td>...</td>\n",
       "      <td>...</td>\n",
       "      <td>...</td>\n",
       "      <td>...</td>\n",
       "      <td>...</td>\n",
       "      <td>...</td>\n",
       "      <td>...</td>\n",
       "      <td>...</td>\n",
       "      <td>...</td>\n",
       "      <td>...</td>\n",
       "      <td>...</td>\n",
       "      <td>...</td>\n",
       "      <td>...</td>\n",
       "      <td>...</td>\n",
       "      <td>...</td>\n",
       "      <td>...</td>\n",
       "      <td>...</td>\n",
       "    </tr>\n",
       "    <tr>\n",
       "      <th>118</th>\n",
       "      <td>2022-07-06</td>\n",
       "      <td>263.75</td>\n",
       "      <td>267.99</td>\n",
       "      <td>262.40</td>\n",
       "      <td>266.21</td>\n",
       "      <td>266.21</td>\n",
       "      <td>23824400</td>\n",
       "      <td>141.35</td>\n",
       "      <td>144.12</td>\n",
       "      <td>141.08</td>\n",
       "      <td>142.92</td>\n",
       "      <td>142.92</td>\n",
       "      <td>74064300</td>\n",
       "      <td>113.21</td>\n",
       "      <td>115.48</td>\n",
       "      <td>112.01</td>\n",
       "      <td>114.33</td>\n",
       "      <td>114.33</td>\n",
       "      <td>66958900</td>\n",
       "    </tr>\n",
       "    <tr>\n",
       "      <th>119</th>\n",
       "      <td>2022-07-07</td>\n",
       "      <td>265.12</td>\n",
       "      <td>269.06</td>\n",
       "      <td>265.02</td>\n",
       "      <td>268.40</td>\n",
       "      <td>268.40</td>\n",
       "      <td>20859900</td>\n",
       "      <td>143.29</td>\n",
       "      <td>146.55</td>\n",
       "      <td>143.28</td>\n",
       "      <td>146.35</td>\n",
       "      <td>146.35</td>\n",
       "      <td>66253700</td>\n",
       "      <td>113.85</td>\n",
       "      <td>116.99</td>\n",
       "      <td>113.49</td>\n",
       "      <td>116.33</td>\n",
       "      <td>116.33</td>\n",
       "      <td>57872300</td>\n",
       "    </tr>\n",
       "    <tr>\n",
       "      <th>120</th>\n",
       "      <td>2022-07-08</td>\n",
       "      <td>264.79</td>\n",
       "      <td>268.10</td>\n",
       "      <td>263.29</td>\n",
       "      <td>267.66</td>\n",
       "      <td>267.66</td>\n",
       "      <td>19648100</td>\n",
       "      <td>145.26</td>\n",
       "      <td>147.55</td>\n",
       "      <td>145.00</td>\n",
       "      <td>147.04</td>\n",
       "      <td>147.04</td>\n",
       "      <td>64493200</td>\n",
       "      <td>114.60</td>\n",
       "      <td>116.58</td>\n",
       "      <td>113.69</td>\n",
       "      <td>115.54</td>\n",
       "      <td>115.54</td>\n",
       "      <td>45658200</td>\n",
       "    </tr>\n",
       "    <tr>\n",
       "      <th>121</th>\n",
       "      <td>2022-07-11</td>\n",
       "      <td>265.65</td>\n",
       "      <td>266.53</td>\n",
       "      <td>262.18</td>\n",
       "      <td>264.51</td>\n",
       "      <td>264.51</td>\n",
       "      <td>19455200</td>\n",
       "      <td>145.67</td>\n",
       "      <td>146.64</td>\n",
       "      <td>143.78</td>\n",
       "      <td>144.87</td>\n",
       "      <td>144.87</td>\n",
       "      <td>63141600</td>\n",
       "      <td>114.08</td>\n",
       "      <td>114.30</td>\n",
       "      <td>110.87</td>\n",
       "      <td>111.75</td>\n",
       "      <td>111.75</td>\n",
       "      <td>53487600</td>\n",
       "    </tr>\n",
       "    <tr>\n",
       "      <th>122</th>\n",
       "      <td>2022-07-12</td>\n",
       "      <td>265.88</td>\n",
       "      <td>265.94</td>\n",
       "      <td>252.04</td>\n",
       "      <td>253.67</td>\n",
       "      <td>253.67</td>\n",
       "      <td>35868500</td>\n",
       "      <td>145.76</td>\n",
       "      <td>148.45</td>\n",
       "      <td>145.05</td>\n",
       "      <td>145.86</td>\n",
       "      <td>145.86</td>\n",
       "      <td>77588800</td>\n",
       "      <td>112.16</td>\n",
       "      <td>113.23</td>\n",
       "      <td>108.34</td>\n",
       "      <td>109.22</td>\n",
       "      <td>109.22</td>\n",
       "      <td>54280300</td>\n",
       "    </tr>\n",
       "  </tbody>\n",
       "</table>\n",
       "<p>123 rows × 19 columns</p>\n",
       "</div>"
      ],
      "text/plain": [
       "          Date  MSFT_OPEN  MSFT_HIGH  MSFT_LOW  MSFT_CLOSE  MSFT_ADJ_CLOSE  \\\n",
       "0   2022-01-13     320.47     320.88    304.00      304.80          303.46   \n",
       "1   2022-01-14     304.25     310.82    303.75      310.20          308.84   \n",
       "2   2022-01-18     304.07     309.80    301.74      302.65          301.32   \n",
       "3   2022-01-19     306.29     313.91    302.70      303.33          302.00   \n",
       "4   2022-01-20     309.07     311.65    301.14      301.60          300.28   \n",
       "..         ...        ...        ...       ...         ...             ...   \n",
       "118 2022-07-06     263.75     267.99    262.40      266.21          266.21   \n",
       "119 2022-07-07     265.12     269.06    265.02      268.40          268.40   \n",
       "120 2022-07-08     264.79     268.10    263.29      267.66          267.66   \n",
       "121 2022-07-11     265.65     266.53    262.18      264.51          264.51   \n",
       "122 2022-07-12     265.88     265.94    252.04      253.67          253.67   \n",
       "\n",
       "     MSFT_VOLUME  AAPL_OPEN  AAPL_HIGH  AAPL_LOW  AAPL_CLOSE  AAPL_ADJ_CLOSE  \\\n",
       "0       45366000     175.78     176.62    171.79      172.19          171.72   \n",
       "1       39846400     171.34     173.78    171.09      173.07          172.60   \n",
       "2       42333200     171.51     172.54    169.41      169.80          169.34   \n",
       "3       45933900     170.00     171.08    165.94      166.23          165.77   \n",
       "4       35380700     166.98     169.68    164.18      164.51          164.06   \n",
       "..           ...        ...        ...       ...         ...             ...   \n",
       "118     23824400     141.35     144.12    141.08      142.92          142.92   \n",
       "119     20859900     143.29     146.55    143.28      146.35          146.35   \n",
       "120     19648100     145.26     147.55    145.00      147.04          147.04   \n",
       "121     19455200     145.67     146.64    143.78      144.87          144.87   \n",
       "122     35868500     145.76     148.45    145.05      145.86          145.86   \n",
       "\n",
       "     AAPL_VOLUME  AMZN_OPEN  AMZN_HIGH  AMZN_LOW  AMZN_CLOSE  AMZN_ADJ_CLOSE  \\\n",
       "0       84505800     165.25     166.22    161.09      161.21          161.21   \n",
       "1       80440800     160.15     162.25    159.80      162.14          162.14   \n",
       "2       90956700     159.10     159.73    157.66      158.92          158.92   \n",
       "3       94815000     158.76     159.25    156.25      156.30          156.30   \n",
       "4       91420500     156.77     158.00    151.35      151.67          151.67   \n",
       "..           ...        ...        ...       ...         ...             ...   \n",
       "118     74064300     113.21     115.48    112.01      114.33          114.33   \n",
       "119     66253700     113.85     116.99    113.49      116.33          116.33   \n",
       "120     64493200     114.60     116.58    113.69      115.54          115.54   \n",
       "121     63141600     114.08     114.30    110.87      111.75          111.75   \n",
       "122     77588800     112.16     113.23    108.34      109.22          109.22   \n",
       "\n",
       "     AMZN_VOLUME  \n",
       "0       52188000  \n",
       "1       45974000  \n",
       "2       67292000  \n",
       "3       53242000  \n",
       "4       71974000  \n",
       "..           ...  \n",
       "118     66958900  \n",
       "119     57872300  \n",
       "120     45658200  \n",
       "121     53487600  \n",
       "122     54280300  \n",
       "\n",
       "[123 rows x 19 columns]"
      ]
     },
     "execution_count": 205,
     "metadata": {},
     "output_type": "execute_result"
    }
   ],
   "source": [
    "stock.round(2)"
   ]
  },
  {
   "cell_type": "markdown",
   "metadata": {},
   "source": [
    "_Make things simpler by reducing everything down to two decimal places_"
   ]
  },
  {
   "cell_type": "code",
   "execution_count": null,
   "metadata": {},
   "outputs": [],
   "source": [
    "aaple = pd.read_csv('AAPL.csv')\n",
    "micro = pd.read_csv(\"MSFT.csv\")\n",
    "amazon = pd.read_csv(\"AMZN.csv\")"
   ]
  },
  {
   "cell_type": "code",
   "execution_count": null,
   "metadata": {},
   "outputs": [],
   "source": [
    "aa = aaple.rename(columns={'Open':'AAPL_OPEN', 'High':'AAPL_HIGH', 'Low':'AAPL_LOW', 'Close':'AAPL_CLOSE', 'Adj Close':'AAPL_ADJ_CLOSE', 'Volume':'AAPL_VOLUME'})"
   ]
  },
  {
   "cell_type": "code",
   "execution_count": null,
   "metadata": {},
   "outputs": [],
   "source": [
    "m = micro.rename(columns={'Open':'MSFT_OPEN', 'High':'MSFT_HIGH', 'Low':'MSFT_LOW', 'Close':'MSFT_CLOSE', 'Adj Close':'MSFT_ADJ_CLOSE', 'Volume':'MSFT_VOLUME'})"
   ]
  },
  {
   "cell_type": "code",
   "execution_count": null,
   "metadata": {},
   "outputs": [],
   "source": [
    "am = amazon.rename(columns= {'Open':'AMZN_OPEN', 'High':'AMZN_HIGH', 'Low':'AMZN_LOW', 'Close':'AMZN_CLOSE', 'Adj Close':'AMZN_ADJ_CLOSE', 'Volume':'AMZN_VOLUME'})"
   ]
  },
  {
   "cell_type": "code",
   "execution_count": null,
   "metadata": {},
   "outputs": [],
   "source": [
    "csvs = [m, aa, am]"
   ]
  },
  {
   "cell_type": "code",
   "execution_count": null,
   "metadata": {},
   "outputs": [],
   "source": [
    "stocks2 = reduce(lambda left,right: pd.merge(left, right, on=['Date'], how='outer'), csvs)"
   ]
  },
  {
   "cell_type": "code",
   "execution_count": null,
   "metadata": {},
   "outputs": [
    {
     "data": {
      "text/html": [
       "<div>\n",
       "<style scoped>\n",
       "    .dataframe tbody tr th:only-of-type {\n",
       "        vertical-align: middle;\n",
       "    }\n",
       "\n",
       "    .dataframe tbody tr th {\n",
       "        vertical-align: top;\n",
       "    }\n",
       "\n",
       "    .dataframe thead th {\n",
       "        text-align: right;\n",
       "    }\n",
       "</style>\n",
       "<table border=\"1\" class=\"dataframe\">\n",
       "  <thead>\n",
       "    <tr style=\"text-align: right;\">\n",
       "      <th></th>\n",
       "      <th>Date</th>\n",
       "      <th>MSFT_OPEN</th>\n",
       "      <th>MSFT_HIGH</th>\n",
       "      <th>MSFT_LOW</th>\n",
       "      <th>MSFT_CLOSE</th>\n",
       "      <th>MSFT_ADJ_CLOSE</th>\n",
       "      <th>MSFT_VOLUME</th>\n",
       "      <th>AAPL_OPEN</th>\n",
       "      <th>AAPL_HIGH</th>\n",
       "      <th>AAPL_LOW</th>\n",
       "      <th>AAPL_CLOSE</th>\n",
       "      <th>AAPL_ADJ_CLOSE</th>\n",
       "      <th>AAPL_VOLUME</th>\n",
       "      <th>AMZN_OPEN</th>\n",
       "      <th>AMZN_HIGH</th>\n",
       "      <th>AMZN_LOW</th>\n",
       "      <th>AMZN_CLOSE</th>\n",
       "      <th>AMZN_ADJ_CLOSE</th>\n",
       "      <th>AMZN_VOLUME</th>\n",
       "    </tr>\n",
       "  </thead>\n",
       "  <tbody>\n",
       "    <tr>\n",
       "      <th>0</th>\n",
       "      <td>2022-01-13</td>\n",
       "      <td>320.47</td>\n",
       "      <td>320.88</td>\n",
       "      <td>304.00</td>\n",
       "      <td>304.80</td>\n",
       "      <td>303.46</td>\n",
       "      <td>45366000</td>\n",
       "      <td>175.78</td>\n",
       "      <td>176.62</td>\n",
       "      <td>171.79</td>\n",
       "      <td>172.19</td>\n",
       "      <td>171.72</td>\n",
       "      <td>84505800</td>\n",
       "      <td>165.25</td>\n",
       "      <td>166.22</td>\n",
       "      <td>161.09</td>\n",
       "      <td>161.21</td>\n",
       "      <td>161.21</td>\n",
       "      <td>52188000</td>\n",
       "    </tr>\n",
       "    <tr>\n",
       "      <th>1</th>\n",
       "      <td>2022-01-14</td>\n",
       "      <td>304.25</td>\n",
       "      <td>310.82</td>\n",
       "      <td>303.75</td>\n",
       "      <td>310.20</td>\n",
       "      <td>308.84</td>\n",
       "      <td>39846400</td>\n",
       "      <td>171.34</td>\n",
       "      <td>173.78</td>\n",
       "      <td>171.09</td>\n",
       "      <td>173.07</td>\n",
       "      <td>172.60</td>\n",
       "      <td>80440800</td>\n",
       "      <td>160.15</td>\n",
       "      <td>162.25</td>\n",
       "      <td>159.80</td>\n",
       "      <td>162.14</td>\n",
       "      <td>162.14</td>\n",
       "      <td>45974000</td>\n",
       "    </tr>\n",
       "    <tr>\n",
       "      <th>2</th>\n",
       "      <td>2022-01-18</td>\n",
       "      <td>304.07</td>\n",
       "      <td>309.80</td>\n",
       "      <td>301.74</td>\n",
       "      <td>302.65</td>\n",
       "      <td>301.32</td>\n",
       "      <td>42333200</td>\n",
       "      <td>171.51</td>\n",
       "      <td>172.54</td>\n",
       "      <td>169.41</td>\n",
       "      <td>169.80</td>\n",
       "      <td>169.34</td>\n",
       "      <td>90956700</td>\n",
       "      <td>159.10</td>\n",
       "      <td>159.73</td>\n",
       "      <td>157.66</td>\n",
       "      <td>158.92</td>\n",
       "      <td>158.92</td>\n",
       "      <td>67292000</td>\n",
       "    </tr>\n",
       "    <tr>\n",
       "      <th>3</th>\n",
       "      <td>2022-01-19</td>\n",
       "      <td>306.29</td>\n",
       "      <td>313.91</td>\n",
       "      <td>302.70</td>\n",
       "      <td>303.33</td>\n",
       "      <td>302.00</td>\n",
       "      <td>45933900</td>\n",
       "      <td>170.00</td>\n",
       "      <td>171.08</td>\n",
       "      <td>165.94</td>\n",
       "      <td>166.23</td>\n",
       "      <td>165.77</td>\n",
       "      <td>94815000</td>\n",
       "      <td>158.76</td>\n",
       "      <td>159.25</td>\n",
       "      <td>156.25</td>\n",
       "      <td>156.30</td>\n",
       "      <td>156.30</td>\n",
       "      <td>53242000</td>\n",
       "    </tr>\n",
       "    <tr>\n",
       "      <th>4</th>\n",
       "      <td>2022-01-20</td>\n",
       "      <td>309.07</td>\n",
       "      <td>311.65</td>\n",
       "      <td>301.14</td>\n",
       "      <td>301.60</td>\n",
       "      <td>300.28</td>\n",
       "      <td>35380700</td>\n",
       "      <td>166.98</td>\n",
       "      <td>169.68</td>\n",
       "      <td>164.18</td>\n",
       "      <td>164.51</td>\n",
       "      <td>164.06</td>\n",
       "      <td>91420500</td>\n",
       "      <td>156.77</td>\n",
       "      <td>158.00</td>\n",
       "      <td>151.35</td>\n",
       "      <td>151.67</td>\n",
       "      <td>151.67</td>\n",
       "      <td>71974000</td>\n",
       "    </tr>\n",
       "    <tr>\n",
       "      <th>...</th>\n",
       "      <td>...</td>\n",
       "      <td>...</td>\n",
       "      <td>...</td>\n",
       "      <td>...</td>\n",
       "      <td>...</td>\n",
       "      <td>...</td>\n",
       "      <td>...</td>\n",
       "      <td>...</td>\n",
       "      <td>...</td>\n",
       "      <td>...</td>\n",
       "      <td>...</td>\n",
       "      <td>...</td>\n",
       "      <td>...</td>\n",
       "      <td>...</td>\n",
       "      <td>...</td>\n",
       "      <td>...</td>\n",
       "      <td>...</td>\n",
       "      <td>...</td>\n",
       "      <td>...</td>\n",
       "    </tr>\n",
       "    <tr>\n",
       "      <th>118</th>\n",
       "      <td>2022-07-06</td>\n",
       "      <td>263.75</td>\n",
       "      <td>267.99</td>\n",
       "      <td>262.40</td>\n",
       "      <td>266.21</td>\n",
       "      <td>266.21</td>\n",
       "      <td>23824400</td>\n",
       "      <td>141.35</td>\n",
       "      <td>144.12</td>\n",
       "      <td>141.08</td>\n",
       "      <td>142.92</td>\n",
       "      <td>142.92</td>\n",
       "      <td>74064300</td>\n",
       "      <td>113.21</td>\n",
       "      <td>115.48</td>\n",
       "      <td>112.01</td>\n",
       "      <td>114.33</td>\n",
       "      <td>114.33</td>\n",
       "      <td>66958900</td>\n",
       "    </tr>\n",
       "    <tr>\n",
       "      <th>119</th>\n",
       "      <td>2022-07-07</td>\n",
       "      <td>265.12</td>\n",
       "      <td>269.06</td>\n",
       "      <td>265.02</td>\n",
       "      <td>268.40</td>\n",
       "      <td>268.40</td>\n",
       "      <td>20859900</td>\n",
       "      <td>143.29</td>\n",
       "      <td>146.55</td>\n",
       "      <td>143.28</td>\n",
       "      <td>146.35</td>\n",
       "      <td>146.35</td>\n",
       "      <td>66253700</td>\n",
       "      <td>113.85</td>\n",
       "      <td>116.99</td>\n",
       "      <td>113.49</td>\n",
       "      <td>116.33</td>\n",
       "      <td>116.33</td>\n",
       "      <td>57872300</td>\n",
       "    </tr>\n",
       "    <tr>\n",
       "      <th>120</th>\n",
       "      <td>2022-07-08</td>\n",
       "      <td>264.79</td>\n",
       "      <td>268.10</td>\n",
       "      <td>263.29</td>\n",
       "      <td>267.66</td>\n",
       "      <td>267.66</td>\n",
       "      <td>19648100</td>\n",
       "      <td>145.26</td>\n",
       "      <td>147.55</td>\n",
       "      <td>145.00</td>\n",
       "      <td>147.04</td>\n",
       "      <td>147.04</td>\n",
       "      <td>64493200</td>\n",
       "      <td>114.60</td>\n",
       "      <td>116.58</td>\n",
       "      <td>113.69</td>\n",
       "      <td>115.54</td>\n",
       "      <td>115.54</td>\n",
       "      <td>45658200</td>\n",
       "    </tr>\n",
       "    <tr>\n",
       "      <th>121</th>\n",
       "      <td>2022-07-11</td>\n",
       "      <td>265.65</td>\n",
       "      <td>266.53</td>\n",
       "      <td>262.18</td>\n",
       "      <td>264.51</td>\n",
       "      <td>264.51</td>\n",
       "      <td>19455200</td>\n",
       "      <td>145.67</td>\n",
       "      <td>146.64</td>\n",
       "      <td>143.78</td>\n",
       "      <td>144.87</td>\n",
       "      <td>144.87</td>\n",
       "      <td>63141600</td>\n",
       "      <td>114.08</td>\n",
       "      <td>114.30</td>\n",
       "      <td>110.87</td>\n",
       "      <td>111.75</td>\n",
       "      <td>111.75</td>\n",
       "      <td>53487600</td>\n",
       "    </tr>\n",
       "    <tr>\n",
       "      <th>122</th>\n",
       "      <td>2022-07-12</td>\n",
       "      <td>265.88</td>\n",
       "      <td>265.94</td>\n",
       "      <td>252.04</td>\n",
       "      <td>253.67</td>\n",
       "      <td>253.67</td>\n",
       "      <td>35868500</td>\n",
       "      <td>145.76</td>\n",
       "      <td>148.45</td>\n",
       "      <td>145.05</td>\n",
       "      <td>145.86</td>\n",
       "      <td>145.86</td>\n",
       "      <td>77588800</td>\n",
       "      <td>112.16</td>\n",
       "      <td>113.23</td>\n",
       "      <td>108.34</td>\n",
       "      <td>109.22</td>\n",
       "      <td>109.22</td>\n",
       "      <td>54280300</td>\n",
       "    </tr>\n",
       "  </tbody>\n",
       "</table>\n",
       "<p>123 rows × 19 columns</p>\n",
       "</div>"
      ],
      "text/plain": [
       "           Date  MSFT_OPEN  MSFT_HIGH  MSFT_LOW  MSFT_CLOSE  MSFT_ADJ_CLOSE  \\\n",
       "0    2022-01-13     320.47     320.88    304.00      304.80          303.46   \n",
       "1    2022-01-14     304.25     310.82    303.75      310.20          308.84   \n",
       "2    2022-01-18     304.07     309.80    301.74      302.65          301.32   \n",
       "3    2022-01-19     306.29     313.91    302.70      303.33          302.00   \n",
       "4    2022-01-20     309.07     311.65    301.14      301.60          300.28   \n",
       "..          ...        ...        ...       ...         ...             ...   \n",
       "118  2022-07-06     263.75     267.99    262.40      266.21          266.21   \n",
       "119  2022-07-07     265.12     269.06    265.02      268.40          268.40   \n",
       "120  2022-07-08     264.79     268.10    263.29      267.66          267.66   \n",
       "121  2022-07-11     265.65     266.53    262.18      264.51          264.51   \n",
       "122  2022-07-12     265.88     265.94    252.04      253.67          253.67   \n",
       "\n",
       "     MSFT_VOLUME  AAPL_OPEN  AAPL_HIGH  AAPL_LOW  AAPL_CLOSE  AAPL_ADJ_CLOSE  \\\n",
       "0       45366000     175.78     176.62    171.79      172.19          171.72   \n",
       "1       39846400     171.34     173.78    171.09      173.07          172.60   \n",
       "2       42333200     171.51     172.54    169.41      169.80          169.34   \n",
       "3       45933900     170.00     171.08    165.94      166.23          165.77   \n",
       "4       35380700     166.98     169.68    164.18      164.51          164.06   \n",
       "..           ...        ...        ...       ...         ...             ...   \n",
       "118     23824400     141.35     144.12    141.08      142.92          142.92   \n",
       "119     20859900     143.29     146.55    143.28      146.35          146.35   \n",
       "120     19648100     145.26     147.55    145.00      147.04          147.04   \n",
       "121     19455200     145.67     146.64    143.78      144.87          144.87   \n",
       "122     35868500     145.76     148.45    145.05      145.86          145.86   \n",
       "\n",
       "     AAPL_VOLUME  AMZN_OPEN  AMZN_HIGH  AMZN_LOW  AMZN_CLOSE  AMZN_ADJ_CLOSE  \\\n",
       "0       84505800     165.25     166.22    161.09      161.21          161.21   \n",
       "1       80440800     160.15     162.25    159.80      162.14          162.14   \n",
       "2       90956700     159.10     159.73    157.66      158.92          158.92   \n",
       "3       94815000     158.76     159.25    156.25      156.30          156.30   \n",
       "4       91420500     156.77     158.00    151.35      151.67          151.67   \n",
       "..           ...        ...        ...       ...         ...             ...   \n",
       "118     74064300     113.21     115.48    112.01      114.33          114.33   \n",
       "119     66253700     113.85     116.99    113.49      116.33          116.33   \n",
       "120     64493200     114.60     116.58    113.69      115.54          115.54   \n",
       "121     63141600     114.08     114.30    110.87      111.75          111.75   \n",
       "122     77588800     112.16     113.23    108.34      109.22          109.22   \n",
       "\n",
       "     AMZN_VOLUME  \n",
       "0       52188000  \n",
       "1       45974000  \n",
       "2       67292000  \n",
       "3       53242000  \n",
       "4       71974000  \n",
       "..           ...  \n",
       "118     66958900  \n",
       "119     57872300  \n",
       "120     45658200  \n",
       "121     53487600  \n",
       "122     54280300  \n",
       "\n",
       "[123 rows x 19 columns]"
      ]
     },
     "execution_count": 212,
     "metadata": {},
     "output_type": "execute_result"
    }
   ],
   "source": [
    "stocks2.round(2)"
   ]
  },
  {
   "cell_type": "code",
   "execution_count": null,
   "metadata": {},
   "outputs": [
    {
     "name": "stdout",
     "output_type": "stream",
     "text": [
      "<class 'pandas.core.frame.DataFrame'>\n",
      "Int64Index: 123 entries, 0 to 122\n",
      "Data columns (total 19 columns):\n",
      " #   Column          Non-Null Count  Dtype  \n",
      "---  ------          --------------  -----  \n",
      " 0   Date            123 non-null    object \n",
      " 1   MSFT_OPEN       123 non-null    float64\n",
      " 2   MSFT_HIGH       123 non-null    float64\n",
      " 3   MSFT_LOW        123 non-null    float64\n",
      " 4   MSFT_CLOSE      123 non-null    float64\n",
      " 5   MSFT_ADJ_CLOSE  123 non-null    float64\n",
      " 6   MSFT_VOLUME     123 non-null    int64  \n",
      " 7   AAPL_OPEN       123 non-null    float64\n",
      " 8   AAPL_HIGH       123 non-null    float64\n",
      " 9   AAPL_LOW        123 non-null    float64\n",
      " 10  AAPL_CLOSE      123 non-null    float64\n",
      " 11  AAPL_ADJ_CLOSE  123 non-null    float64\n",
      " 12  AAPL_VOLUME     123 non-null    int64  \n",
      " 13  AMZN_OPEN       123 non-null    float64\n",
      " 14  AMZN_HIGH       123 non-null    float64\n",
      " 15  AMZN_LOW        123 non-null    float64\n",
      " 16  AMZN_CLOSE      123 non-null    float64\n",
      " 17  AMZN_ADJ_CLOSE  123 non-null    float64\n",
      " 18  AMZN_VOLUME     123 non-null    int64  \n",
      "dtypes: float64(15), int64(3), object(1)\n",
      "memory usage: 19.2+ KB\n"
     ]
    }
   ],
   "source": [
    "stocks2.info()"
   ]
  },
  {
   "cell_type": "code",
   "execution_count": null,
   "metadata": {},
   "outputs": [],
   "source": [
    "stocks2['Date'] = pd.to_datetime(stocks2['Date'])"
   ]
  },
  {
   "cell_type": "code",
   "execution_count": null,
   "metadata": {},
   "outputs": [
    {
     "name": "stdout",
     "output_type": "stream",
     "text": [
      "<class 'pandas.core.frame.DataFrame'>\n",
      "Int64Index: 123 entries, 0 to 122\n",
      "Data columns (total 19 columns):\n",
      " #   Column          Non-Null Count  Dtype         \n",
      "---  ------          --------------  -----         \n",
      " 0   Date            123 non-null    datetime64[ns]\n",
      " 1   MSFT_OPEN       123 non-null    float64       \n",
      " 2   MSFT_HIGH       123 non-null    float64       \n",
      " 3   MSFT_LOW        123 non-null    float64       \n",
      " 4   MSFT_CLOSE      123 non-null    float64       \n",
      " 5   MSFT_ADJ_CLOSE  123 non-null    float64       \n",
      " 6   MSFT_VOLUME     123 non-null    int64         \n",
      " 7   AAPL_OPEN       123 non-null    float64       \n",
      " 8   AAPL_HIGH       123 non-null    float64       \n",
      " 9   AAPL_LOW        123 non-null    float64       \n",
      " 10  AAPL_CLOSE      123 non-null    float64       \n",
      " 11  AAPL_ADJ_CLOSE  123 non-null    float64       \n",
      " 12  AAPL_VOLUME     123 non-null    int64         \n",
      " 13  AMZN_OPEN       123 non-null    float64       \n",
      " 14  AMZN_HIGH       123 non-null    float64       \n",
      " 15  AMZN_LOW        123 non-null    float64       \n",
      " 16  AMZN_CLOSE      123 non-null    float64       \n",
      " 17  AMZN_ADJ_CLOSE  123 non-null    float64       \n",
      " 18  AMZN_VOLUME     123 non-null    int64         \n",
      "dtypes: datetime64[ns](1), float64(15), int64(3)\n",
      "memory usage: 19.2 KB\n"
     ]
    }
   ],
   "source": [
    "stocks2.info()"
   ]
  },
  {
   "cell_type": "code",
   "execution_count": null,
   "metadata": {},
   "outputs": [],
   "source": [
    "final = pd.concat([stock, stocks2])"
   ]
  },
  {
   "cell_type": "code",
   "execution_count": null,
   "metadata": {},
   "outputs": [
    {
     "data": {
      "text/html": [
       "<div>\n",
       "<style scoped>\n",
       "    .dataframe tbody tr th:only-of-type {\n",
       "        vertical-align: middle;\n",
       "    }\n",
       "\n",
       "    .dataframe tbody tr th {\n",
       "        vertical-align: top;\n",
       "    }\n",
       "\n",
       "    .dataframe thead th {\n",
       "        text-align: right;\n",
       "    }\n",
       "</style>\n",
       "<table border=\"1\" class=\"dataframe\">\n",
       "  <thead>\n",
       "    <tr style=\"text-align: right;\">\n",
       "      <th></th>\n",
       "      <th>Date</th>\n",
       "      <th>MSFT_OPEN</th>\n",
       "      <th>MSFT_HIGH</th>\n",
       "      <th>MSFT_LOW</th>\n",
       "      <th>MSFT_CLOSE</th>\n",
       "      <th>MSFT_ADJ_CLOSE</th>\n",
       "      <th>MSFT_VOLUME</th>\n",
       "      <th>AAPL_OPEN</th>\n",
       "      <th>AAPL_HIGH</th>\n",
       "      <th>AAPL_LOW</th>\n",
       "      <th>AAPL_CLOSE</th>\n",
       "      <th>AAPL_ADJ_CLOSE</th>\n",
       "      <th>AAPL_VOLUME</th>\n",
       "      <th>AMZN_OPEN</th>\n",
       "      <th>AMZN_HIGH</th>\n",
       "      <th>AMZN_LOW</th>\n",
       "      <th>AMZN_CLOSE</th>\n",
       "      <th>AMZN_ADJ_CLOSE</th>\n",
       "      <th>AMZN_VOLUME</th>\n",
       "    </tr>\n",
       "  </thead>\n",
       "  <tbody>\n",
       "    <tr>\n",
       "      <th>0</th>\n",
       "      <td>2022-01-13</td>\n",
       "      <td>320.470001</td>\n",
       "      <td>320.880005</td>\n",
       "      <td>304.000000</td>\n",
       "      <td>304.799988</td>\n",
       "      <td>303.464264</td>\n",
       "      <td>45366000</td>\n",
       "      <td>175.779999</td>\n",
       "      <td>176.619995</td>\n",
       "      <td>171.789993</td>\n",
       "      <td>172.190002</td>\n",
       "      <td>171.718597</td>\n",
       "      <td>84505800</td>\n",
       "      <td>165.250504</td>\n",
       "      <td>166.221497</td>\n",
       "      <td>161.091003</td>\n",
       "      <td>161.214005</td>\n",
       "      <td>161.214005</td>\n",
       "      <td>52188000</td>\n",
       "    </tr>\n",
       "    <tr>\n",
       "      <th>1</th>\n",
       "      <td>2022-01-14</td>\n",
       "      <td>304.250000</td>\n",
       "      <td>310.820007</td>\n",
       "      <td>303.750000</td>\n",
       "      <td>310.200012</td>\n",
       "      <td>308.840607</td>\n",
       "      <td>39846400</td>\n",
       "      <td>171.339996</td>\n",
       "      <td>173.779999</td>\n",
       "      <td>171.089996</td>\n",
       "      <td>173.070007</td>\n",
       "      <td>172.596207</td>\n",
       "      <td>80440800</td>\n",
       "      <td>160.149994</td>\n",
       "      <td>162.250000</td>\n",
       "      <td>159.800507</td>\n",
       "      <td>162.138000</td>\n",
       "      <td>162.138000</td>\n",
       "      <td>45974000</td>\n",
       "    </tr>\n",
       "    <tr>\n",
       "      <th>2</th>\n",
       "      <td>2022-01-18</td>\n",
       "      <td>304.070007</td>\n",
       "      <td>309.799988</td>\n",
       "      <td>301.739990</td>\n",
       "      <td>302.649994</td>\n",
       "      <td>301.323669</td>\n",
       "      <td>42333200</td>\n",
       "      <td>171.509995</td>\n",
       "      <td>172.539993</td>\n",
       "      <td>169.410004</td>\n",
       "      <td>169.800003</td>\n",
       "      <td>169.335144</td>\n",
       "      <td>90956700</td>\n",
       "      <td>159.104996</td>\n",
       "      <td>159.734497</td>\n",
       "      <td>157.664505</td>\n",
       "      <td>158.917496</td>\n",
       "      <td>158.917496</td>\n",
       "      <td>67292000</td>\n",
       "    </tr>\n",
       "    <tr>\n",
       "      <th>3</th>\n",
       "      <td>2022-01-19</td>\n",
       "      <td>306.290009</td>\n",
       "      <td>313.910004</td>\n",
       "      <td>302.700012</td>\n",
       "      <td>303.329987</td>\n",
       "      <td>302.000702</td>\n",
       "      <td>45933900</td>\n",
       "      <td>170.000000</td>\n",
       "      <td>171.080002</td>\n",
       "      <td>165.940002</td>\n",
       "      <td>166.229996</td>\n",
       "      <td>165.774918</td>\n",
       "      <td>94815000</td>\n",
       "      <td>158.761993</td>\n",
       "      <td>159.250000</td>\n",
       "      <td>156.250000</td>\n",
       "      <td>156.298996</td>\n",
       "      <td>156.298996</td>\n",
       "      <td>53242000</td>\n",
       "    </tr>\n",
       "    <tr>\n",
       "      <th>4</th>\n",
       "      <td>2022-01-20</td>\n",
       "      <td>309.070007</td>\n",
       "      <td>311.649994</td>\n",
       "      <td>301.140015</td>\n",
       "      <td>301.600006</td>\n",
       "      <td>300.278290</td>\n",
       "      <td>35380700</td>\n",
       "      <td>166.979996</td>\n",
       "      <td>169.679993</td>\n",
       "      <td>164.179993</td>\n",
       "      <td>164.509995</td>\n",
       "      <td>164.059616</td>\n",
       "      <td>91420500</td>\n",
       "      <td>156.766006</td>\n",
       "      <td>158.000000</td>\n",
       "      <td>151.350998</td>\n",
       "      <td>151.667496</td>\n",
       "      <td>151.667496</td>\n",
       "      <td>71974000</td>\n",
       "    </tr>\n",
       "    <tr>\n",
       "      <th>...</th>\n",
       "      <td>...</td>\n",
       "      <td>...</td>\n",
       "      <td>...</td>\n",
       "      <td>...</td>\n",
       "      <td>...</td>\n",
       "      <td>...</td>\n",
       "      <td>...</td>\n",
       "      <td>...</td>\n",
       "      <td>...</td>\n",
       "      <td>...</td>\n",
       "      <td>...</td>\n",
       "      <td>...</td>\n",
       "      <td>...</td>\n",
       "      <td>...</td>\n",
       "      <td>...</td>\n",
       "      <td>...</td>\n",
       "      <td>...</td>\n",
       "      <td>...</td>\n",
       "      <td>...</td>\n",
       "    </tr>\n",
       "    <tr>\n",
       "      <th>118</th>\n",
       "      <td>2022-07-06</td>\n",
       "      <td>263.750000</td>\n",
       "      <td>267.989990</td>\n",
       "      <td>262.399994</td>\n",
       "      <td>266.209991</td>\n",
       "      <td>266.209991</td>\n",
       "      <td>23824400</td>\n",
       "      <td>141.350006</td>\n",
       "      <td>144.119995</td>\n",
       "      <td>141.080002</td>\n",
       "      <td>142.919998</td>\n",
       "      <td>142.919998</td>\n",
       "      <td>74064300</td>\n",
       "      <td>113.209999</td>\n",
       "      <td>115.480003</td>\n",
       "      <td>112.010002</td>\n",
       "      <td>114.330002</td>\n",
       "      <td>114.330002</td>\n",
       "      <td>66958900</td>\n",
       "    </tr>\n",
       "    <tr>\n",
       "      <th>119</th>\n",
       "      <td>2022-07-07</td>\n",
       "      <td>265.119995</td>\n",
       "      <td>269.059998</td>\n",
       "      <td>265.019989</td>\n",
       "      <td>268.399994</td>\n",
       "      <td>268.399994</td>\n",
       "      <td>20859900</td>\n",
       "      <td>143.289993</td>\n",
       "      <td>146.550003</td>\n",
       "      <td>143.279999</td>\n",
       "      <td>146.350006</td>\n",
       "      <td>146.350006</td>\n",
       "      <td>66253700</td>\n",
       "      <td>113.849998</td>\n",
       "      <td>116.989998</td>\n",
       "      <td>113.489998</td>\n",
       "      <td>116.330002</td>\n",
       "      <td>116.330002</td>\n",
       "      <td>57872300</td>\n",
       "    </tr>\n",
       "    <tr>\n",
       "      <th>120</th>\n",
       "      <td>2022-07-08</td>\n",
       "      <td>264.790009</td>\n",
       "      <td>268.100006</td>\n",
       "      <td>263.290009</td>\n",
       "      <td>267.660004</td>\n",
       "      <td>267.660004</td>\n",
       "      <td>19648100</td>\n",
       "      <td>145.259995</td>\n",
       "      <td>147.550003</td>\n",
       "      <td>145.000000</td>\n",
       "      <td>147.039993</td>\n",
       "      <td>147.039993</td>\n",
       "      <td>64493200</td>\n",
       "      <td>114.599998</td>\n",
       "      <td>116.580002</td>\n",
       "      <td>113.690002</td>\n",
       "      <td>115.540001</td>\n",
       "      <td>115.540001</td>\n",
       "      <td>45658200</td>\n",
       "    </tr>\n",
       "    <tr>\n",
       "      <th>121</th>\n",
       "      <td>2022-07-11</td>\n",
       "      <td>265.649994</td>\n",
       "      <td>266.529999</td>\n",
       "      <td>262.179993</td>\n",
       "      <td>264.510010</td>\n",
       "      <td>264.510010</td>\n",
       "      <td>19455200</td>\n",
       "      <td>145.669998</td>\n",
       "      <td>146.639999</td>\n",
       "      <td>143.779999</td>\n",
       "      <td>144.869995</td>\n",
       "      <td>144.869995</td>\n",
       "      <td>63141600</td>\n",
       "      <td>114.080002</td>\n",
       "      <td>114.300003</td>\n",
       "      <td>110.870003</td>\n",
       "      <td>111.750000</td>\n",
       "      <td>111.750000</td>\n",
       "      <td>53487600</td>\n",
       "    </tr>\n",
       "    <tr>\n",
       "      <th>122</th>\n",
       "      <td>2022-07-12</td>\n",
       "      <td>265.880005</td>\n",
       "      <td>265.940002</td>\n",
       "      <td>252.039993</td>\n",
       "      <td>253.669998</td>\n",
       "      <td>253.669998</td>\n",
       "      <td>35868500</td>\n",
       "      <td>145.759995</td>\n",
       "      <td>148.449997</td>\n",
       "      <td>145.050003</td>\n",
       "      <td>145.860001</td>\n",
       "      <td>145.860001</td>\n",
       "      <td>77588800</td>\n",
       "      <td>112.160004</td>\n",
       "      <td>113.230003</td>\n",
       "      <td>108.339996</td>\n",
       "      <td>109.220001</td>\n",
       "      <td>109.220001</td>\n",
       "      <td>54280300</td>\n",
       "    </tr>\n",
       "  </tbody>\n",
       "</table>\n",
       "<p>246 rows × 19 columns</p>\n",
       "</div>"
      ],
      "text/plain": [
       "          Date   MSFT_OPEN   MSFT_HIGH    MSFT_LOW  MSFT_CLOSE  \\\n",
       "0   2022-01-13  320.470001  320.880005  304.000000  304.799988   \n",
       "1   2022-01-14  304.250000  310.820007  303.750000  310.200012   \n",
       "2   2022-01-18  304.070007  309.799988  301.739990  302.649994   \n",
       "3   2022-01-19  306.290009  313.910004  302.700012  303.329987   \n",
       "4   2022-01-20  309.070007  311.649994  301.140015  301.600006   \n",
       "..         ...         ...         ...         ...         ...   \n",
       "118 2022-07-06  263.750000  267.989990  262.399994  266.209991   \n",
       "119 2022-07-07  265.119995  269.059998  265.019989  268.399994   \n",
       "120 2022-07-08  264.790009  268.100006  263.290009  267.660004   \n",
       "121 2022-07-11  265.649994  266.529999  262.179993  264.510010   \n",
       "122 2022-07-12  265.880005  265.940002  252.039993  253.669998   \n",
       "\n",
       "     MSFT_ADJ_CLOSE  MSFT_VOLUME   AAPL_OPEN   AAPL_HIGH    AAPL_LOW  \\\n",
       "0        303.464264     45366000  175.779999  176.619995  171.789993   \n",
       "1        308.840607     39846400  171.339996  173.779999  171.089996   \n",
       "2        301.323669     42333200  171.509995  172.539993  169.410004   \n",
       "3        302.000702     45933900  170.000000  171.080002  165.940002   \n",
       "4        300.278290     35380700  166.979996  169.679993  164.179993   \n",
       "..              ...          ...         ...         ...         ...   \n",
       "118      266.209991     23824400  141.350006  144.119995  141.080002   \n",
       "119      268.399994     20859900  143.289993  146.550003  143.279999   \n",
       "120      267.660004     19648100  145.259995  147.550003  145.000000   \n",
       "121      264.510010     19455200  145.669998  146.639999  143.779999   \n",
       "122      253.669998     35868500  145.759995  148.449997  145.050003   \n",
       "\n",
       "     AAPL_CLOSE  AAPL_ADJ_CLOSE  AAPL_VOLUME   AMZN_OPEN   AMZN_HIGH  \\\n",
       "0    172.190002      171.718597     84505800  165.250504  166.221497   \n",
       "1    173.070007      172.596207     80440800  160.149994  162.250000   \n",
       "2    169.800003      169.335144     90956700  159.104996  159.734497   \n",
       "3    166.229996      165.774918     94815000  158.761993  159.250000   \n",
       "4    164.509995      164.059616     91420500  156.766006  158.000000   \n",
       "..          ...             ...          ...         ...         ...   \n",
       "118  142.919998      142.919998     74064300  113.209999  115.480003   \n",
       "119  146.350006      146.350006     66253700  113.849998  116.989998   \n",
       "120  147.039993      147.039993     64493200  114.599998  116.580002   \n",
       "121  144.869995      144.869995     63141600  114.080002  114.300003   \n",
       "122  145.860001      145.860001     77588800  112.160004  113.230003   \n",
       "\n",
       "       AMZN_LOW  AMZN_CLOSE  AMZN_ADJ_CLOSE  AMZN_VOLUME  \n",
       "0    161.091003  161.214005      161.214005     52188000  \n",
       "1    159.800507  162.138000      162.138000     45974000  \n",
       "2    157.664505  158.917496      158.917496     67292000  \n",
       "3    156.250000  156.298996      156.298996     53242000  \n",
       "4    151.350998  151.667496      151.667496     71974000  \n",
       "..          ...         ...             ...          ...  \n",
       "118  112.010002  114.330002      114.330002     66958900  \n",
       "119  113.489998  116.330002      116.330002     57872300  \n",
       "120  113.690002  115.540001      115.540001     45658200  \n",
       "121  110.870003  111.750000      111.750000     53487600  \n",
       "122  108.339996  109.220001      109.220001     54280300  \n",
       "\n",
       "[246 rows x 19 columns]"
      ]
     },
     "execution_count": 217,
     "metadata": {},
     "output_type": "execute_result"
    }
   ],
   "source": [
    "final"
   ]
  },
  {
   "cell_type": "code",
   "execution_count": null,
   "metadata": {},
   "outputs": [],
   "source": [
    "x = final.drop_duplicates()"
   ]
  },
  {
   "cell_type": "code",
   "execution_count": null,
   "metadata": {},
   "outputs": [
    {
     "data": {
      "text/plain": [
       "Date              123\n",
       "MSFT_OPEN         123\n",
       "MSFT_HIGH         123\n",
       "MSFT_LOW          122\n",
       "MSFT_CLOSE        122\n",
       "MSFT_ADJ_CLOSE    128\n",
       "MSFT_VOLUME       123\n",
       "AAPL_OPEN         123\n",
       "AAPL_HIGH         122\n",
       "AAPL_LOW          123\n",
       "AAPL_CLOSE        118\n",
       "AAPL_ADJ_CLOSE    127\n",
       "AAPL_VOLUME       123\n",
       "AMZN_OPEN         121\n",
       "AMZN_HIGH         123\n",
       "AMZN_LOW          123\n",
       "AMZN_CLOSE        123\n",
       "AMZN_ADJ_CLOSE    123\n",
       "AMZN_VOLUME       123\n",
       "dtype: int64"
      ]
     },
     "execution_count": 219,
     "metadata": {},
     "output_type": "execute_result"
    }
   ],
   "source": [
    "x.nunique()\n",
    "# So they are the same rounded to two dec places\n",
    "# Drop duplicates"
   ]
  },
  {
   "cell_type": "code",
   "execution_count": null,
   "metadata": {},
   "outputs": [
    {
     "data": {
      "text/plain": [
       "dtype('<M8[ns]')"
      ]
     },
     "execution_count": 220,
     "metadata": {},
     "output_type": "execute_result"
    }
   ],
   "source": [
    "x['Date'].dtype"
   ]
  },
  {
   "cell_type": "code",
   "execution_count": null,
   "metadata": {},
   "outputs": [
    {
     "data": {
      "text/plain": [
       "123"
      ]
     },
     "metadata": {},
     "output_type": "display_data"
    }
   ],
   "source": [
    "display(x.Date.nunique())"
   ]
  },
  {
   "cell_type": "code",
   "execution_count": null,
   "metadata": {},
   "outputs": [],
   "source": [
    "x.reset_index(inplace=True)"
   ]
  },
  {
   "cell_type": "code",
   "execution_count": null,
   "metadata": {},
   "outputs": [
    {
     "name": "stdout",
     "output_type": "stream",
     "text": [
      "0     2022-01-13\n",
      "1     2022-01-14\n",
      "2     2022-01-18\n",
      "3     2022-01-19\n",
      "4     2022-01-20\n",
      "5     2022-01-21\n",
      "6     2022-01-24\n",
      "7     2022-01-25\n",
      "8     2022-01-26\n",
      "9     2022-01-27\n",
      "10    2022-01-28\n",
      "11    2022-01-31\n",
      "12    2022-02-01\n",
      "13    2022-02-02\n",
      "14    2022-02-03\n",
      "15    2022-02-04\n",
      "16    2022-02-07\n",
      "17    2022-02-08\n",
      "18    2022-02-09\n",
      "19    2022-02-10\n",
      "20    2022-02-11\n",
      "21    2022-02-14\n",
      "22    2022-02-15\n",
      "23    2022-02-16\n",
      "24    2022-02-17\n",
      "25    2022-02-18\n",
      "26    2022-02-22\n",
      "27    2022-02-23\n",
      "28    2022-02-24\n",
      "29    2022-02-25\n",
      "30    2022-02-28\n",
      "31    2022-03-01\n",
      "32    2022-03-02\n",
      "33    2022-03-03\n",
      "34    2022-03-04\n",
      "35    2022-03-07\n",
      "36    2022-03-08\n",
      "37    2022-03-09\n",
      "38    2022-03-10\n",
      "39    2022-03-11\n",
      "40    2022-03-14\n",
      "41    2022-03-15\n",
      "42    2022-03-16\n",
      "43    2022-03-17\n",
      "44    2022-03-18\n",
      "45    2022-03-21\n",
      "46    2022-03-22\n",
      "47    2022-03-23\n",
      "48    2022-03-24\n",
      "49    2022-03-25\n",
      "50    2022-03-28\n",
      "51    2022-03-29\n",
      "52    2022-03-30\n",
      "53    2022-03-31\n",
      "54    2022-04-01\n",
      "55    2022-04-04\n",
      "56    2022-04-05\n",
      "57    2022-04-06\n",
      "58    2022-04-07\n",
      "59    2022-04-08\n",
      "60    2022-04-11\n",
      "61    2022-04-12\n",
      "62    2022-04-13\n",
      "63    2022-04-14\n",
      "64    2022-04-18\n",
      "65    2022-04-19\n",
      "66    2022-04-20\n",
      "67    2022-04-21\n",
      "68    2022-04-22\n",
      "69    2022-04-25\n",
      "70    2022-04-26\n",
      "71    2022-04-27\n",
      "72    2022-04-28\n",
      "73    2022-04-29\n",
      "74    2022-05-02\n",
      "75    2022-05-03\n",
      "76    2022-05-04\n",
      "77    2022-05-05\n",
      "78    2022-05-06\n",
      "79    2022-05-09\n",
      "80    2022-05-10\n",
      "81    2022-05-11\n",
      "82    2022-05-12\n",
      "83    2022-05-13\n",
      "84    2022-05-16\n",
      "85    2022-05-17\n",
      "86    2022-05-18\n",
      "87    2022-05-19\n",
      "88    2022-05-20\n",
      "89    2022-05-23\n",
      "90    2022-05-24\n",
      "91    2022-05-25\n",
      "92    2022-05-26\n",
      "93    2022-05-27\n",
      "94    2022-05-31\n",
      "95    2022-06-01\n",
      "96    2022-06-02\n",
      "97    2022-06-03\n",
      "98    2022-06-06\n",
      "99    2022-06-07\n",
      "100   2022-06-08\n",
      "101   2022-06-09\n",
      "102   2022-06-10\n",
      "103   2022-06-13\n",
      "104   2022-06-14\n",
      "105   2022-06-15\n",
      "106   2022-06-16\n",
      "107   2022-06-17\n",
      "108   2022-06-21\n",
      "109   2022-06-22\n",
      "110   2022-06-23\n",
      "111   2022-06-24\n",
      "112   2022-06-27\n",
      "113   2022-06-28\n",
      "114   2022-06-29\n",
      "115   2022-06-30\n",
      "116   2022-07-01\n",
      "117   2022-07-05\n",
      "118   2022-07-06\n",
      "119   2022-07-07\n",
      "120   2022-07-08\n",
      "121   2022-07-11\n",
      "122   2022-07-12\n",
      "123   2022-01-19\n",
      "124   2022-01-20\n",
      "125   2022-01-25\n",
      "126   2022-01-26\n",
      "127   2022-01-27\n",
      "128   2022-01-28\n",
      "129   2022-01-31\n",
      "130   2022-02-01\n",
      "131   2022-02-02\n",
      "132   2022-02-10\n",
      "133   2022-02-15\n"
     ]
    }
   ],
   "source": [
    "print(x.Date.to_string())"
   ]
  },
  {
   "cell_type": "code",
   "execution_count": null,
   "metadata": {},
   "outputs": [
    {
     "data": {
      "text/plain": [
       "<AxesSubplot:>"
      ]
     },
     "execution_count": 224,
     "metadata": {},
     "output_type": "execute_result"
    },
    {
     "data": {
      "image/png": "[encoded data removed]",
      "text/plain": [
       "<Figure size 432x288 with 1 Axes>"
      ]
     },
     "metadata": {
      "needs_background": "light"
     },
     "output_type": "display_data"
    }
   ],
   "source": [
    "x['MSFT_OPEN'].plot()"
   ]
  },
  {
   "cell_type": "code",
   "execution_count": null,
   "metadata": {},
   "outputs": [
    {
     "data": {
      "text/plain": [
       "<matplotlib.legend.Legend at 0x1bd2cd3a830>"
      ]
     },
     "execution_count": 225,
     "metadata": {},
     "output_type": "execute_result"
    },
    {
     "data": {
      "image/png": "[encoded data removed]",
      "text/plain": [
       "<Figure size 2400x1200 with 1 Axes>"
      ]
     },
     "metadata": {
      "needs_background": "light"
     },
     "output_type": "display_data"
    }
   ],
   "source": [
    "# to set the plot size\n",
    "plt.figure(figsize=(16, 8), dpi=150)\n",
    "  \n",
    "# using plot method to plot open prices.\n",
    "# in plot method we set the label and color of the curve.\n",
    "x['MSFT_OPEN'].plot(label='MICROSOFT', color='orange')\n",
    "x['AAPL_OPEN'].plot(label='APPLE')\n",
    "x['AMZN_OPEN'].plot(label='AMAZON')\n",
    "  \n",
    "# adding title to the plot\n",
    "plt.title('Open Price Plot')\n",
    "  \n",
    "# adding Label to the x-axis\n",
    "plt.xlabel('Days')\n",
    "  \n",
    "# adding legend to the curve\n",
    "plt.legend()"
   ]
  },
  {
   "cell_type": "code",
   "execution_count": null,
   "metadata": {},
   "outputs": [
    {
     "data": {
      "application/vnd.plotly.v1+json": {
       "config": {
        "plotlyServerURL": "https://plot.ly"
       },
       "data": [
        {
         "close": [
          172.190002,
          173.070007,
          169.800003,
          166.229996,
          164.509995,
          162.410004,
          161.619995,
          159.779999,
          159.690002,
          159.220001,
          170.330002,
          174.779999,
          174.610001,
          175.839996,
          172.899994,
          172.389999,
          171.660004,
          174.830002,
          176.279999,
          172.119995,
          168.639999,
          168.880005,
          172.789993,
          172.550003,
          168.880005,
          167.300003,
          164.320007,
          160.070007,
          162.740005,
          164.850006,
          165.119995,
          163.199997,
          166.559998,
          166.229996,
          163.169998,
          159.300003,
          157.440002,
          162.949997,
          158.520004,
          154.729996,
          150.619995,
          155.089996,
          159.589996,
          160.619995,
          163.979996,
          165.380005,
          168.820007,
          170.210007,
          174.070007,
          174.720001,
          175.600006,
          178.960007,
          177.770004,
          174.610001,
          174.309998,
          178.440002,
          175.059998,
          171.830002,
          172.139999,
          170.089996,
          165.75,
          167.660004,
          170.399994,
          165.289993,
          165.070007,
          167.399994,
          167.229996,
          166.419998,
          161.789993,
          162.880005,
          156.800003,
          156.570007,
          163.639999,
          157.649994,
          157.960007,
          159.479996,
          166.020004,
          156.770004,
          157.279999,
          152.059998,
          154.509995,
          146.5,
          142.559998,
          147.110001,
          145.539993,
          149.240005,
          140.820007,
          137.350006,
          137.589996,
          143.110001,
          140.360001,
          140.520004,
          143.779999,
          149.639999,
          148.839996,
          148.710007,
          151.210007,
          145.380005,
          146.139999,
          148.710007,
          147.960007,
          142.639999,
          137.130005,
          131.880005,
          132.759995,
          135.429993,
          130.059998,
          131.559998,
          135.869995,
          135.350006,
          138.270004,
          141.660004,
          141.660004,
          137.440002,
          139.229996,
          136.720001,
          138.929993,
          141.559998,
          142.919998,
          146.350006,
          147.039993,
          144.869995,
          145.860001,
          166.229996,
          164.509995,
          159.779999,
          159.690002,
          159.220001,
          170.330002,
          174.779999,
          174.610001,
          175.839996,
          172.119995,
          172.789993
         ],
         "high": [
          176.619995,
          173.779999,
          172.539993,
          171.080002,
          169.679993,
          166.330002,
          162.300003,
          162.759995,
          164.389999,
          163.839996,
          170.350006,
          175,
          174.839996,
          175.880005,
          176.240005,
          174.100006,
          173.949997,
          175.350006,
          176.649994,
          175.479996,
          173.080002,
          169.580002,
          172.949997,
          173.339996,
          171.910004,
          170.539993,
          166.690002,
          166.149994,
          162.850006,
          165.119995,
          165.419998,
          166.600006,
          167.360001,
          168.910004,
          165.550003,
          165.020004,
          162.880005,
          163.410004,
          160.389999,
          159.279999,
          154.119995,
          155.570007,
          160,
          161,
          164.479996,
          166.350006,
          169.419998,
          172.639999,
          174.139999,
          175.279999,
          175.729996,
          179.009995,
          179.610001,
          178.029999,
          174.880005,
          178.490005,
          178.300003,
          173.630005,
          173.360001,
          171.779999,
          169.029999,
          169.869995,
          171.039993,
          171.270004,
          166.600006,
          167.820007,
          168.880005,
          171.529999,
          167.869995,
          163.169998,
          162.339996,
          159.789993,
          164.520004,
          166.199997,
          158.229996,
          160.710007,
          166.479996,
          164.080002,
          159.440002,
          155.830002,
          156.740005,
          155.449997,
          146.199997,
          148.100006,
          147.520004,
          149.770004,
          147.360001,
          141.660004,
          140.699997,
          143.259995,
          141.970001,
          141.789993,
          144.339996,
          149.679993,
          150.660004,
          151.740005,
          151.270004,
          147.970001,
          148.570007,
          149,
          149.869995,
          147.949997,
          140.759995,
          135.199997,
          133.889999,
          137.339996,
          132.389999,
          133.080002,
          137.059998,
          137.759995,
          138.589996,
          141.910004,
          143.490005,
          143.419998,
          140.669998,
          138.369995,
          139.039993,
          141.610001,
          144.119995,
          146.550003,
          147.550003,
          146.639999,
          148.449997,
          171.080002,
          169.679993,
          162.759995,
          164.389999,
          163.839996,
          170.350006,
          175,
          174.839996,
          175.880005,
          175.479996,
          172.949997
         ],
         "low": [
          171.789993,
          171.089996,
          169.410004,
          165.940002,
          164.179993,
          162.300003,
          154.699997,
          157.020004,
          157.820007,
          158.279999,
          162.800003,
          169.509995,
          172.309998,
          173.330002,
          172.119995,
          170.679993,
          170.949997,
          171.429993,
          174.899994,
          171.550003,
          168.039993,
          166.559998,
          170.25,
          170.050003,
          168.470001,
          166.190002,
          162.149994,
          159.75,
          152,
          160.869995,
          162.429993,
          161.970001,
          162.949997,
          165.550003,
          162.100006,
          159.039993,
          155.800003,
          159.410004,
          155.979996,
          154.5,
          150.100006,
          150.380005,
          154.460007,
          157.630005,
          159.759995,
          163.009995,
          164.910004,
          167.649994,
          170.210007,
          172.75,
          172,
          176.339996,
          176.699997,
          174.399994,
          171.940002,
          174.440002,
          174.419998,
          170.130005,
          169.850006,
          169.199997,
          165.5,
          166.639999,
          166.770004,
          165.039993,
          163.570007,
          163.910004,
          166.100006,
          165.910004,
          161.5,
          158.460007,
          156.720001,
          155.380005,
          158.929993,
          157.25,
          153.270004,
          156.320007,
          159.259995,
          154.949997,
          154.179993,
          151.490005,
          152.929993,
          145.809998,
          138.800003,
          143.110001,
          144.179993,
          146.679993,
          139.899994,
          136.600006,
          132.610001,
          137.649994,
          137.330002,
          138.339996,
          137.139999,
          145.259995,
          146.839996,
          147.679993,
          146.860001,
          144.460007,
          144.899994,
          144.100006,
          147.460007,
          142.529999,
          137.059998,
          131.440002,
          131.479996,
          132.160004,
          129.039993,
          129.809998,
          133.320007,
          133.910004,
          135.630005,
          139.770004,
          140.970001,
          137.320007,
          136.669998,
          133.770004,
          135.660004,
          136.929993,
          141.080002,
          143.279999,
          145,
          143.779999,
          145.050003,
          165.940002,
          164.179993,
          157.020004,
          157.820007,
          158.279999,
          162.800003,
          169.509995,
          172.309998,
          173.330002,
          171.550003,
          170.25
         ],
         "open": [
          175.779999,
          171.339996,
          171.509995,
          170,
          166.979996,
          164.419998,
          160.020004,
          158.979996,
          163.5,
          162.449997,
          165.710007,
          170.160004,
          174.009995,
          174.75,
          174.479996,
          171.679993,
          172.860001,
          171.729996,
          176.050003,
          174.139999,
          172.330002,
          167.369995,
          170.970001,
          171.850006,
          171.029999,
          169.820007,
          164.979996,
          165.539993,
          152.580002,
          163.839996,
          163.059998,
          164.699997,
          164.389999,
          168.470001,
          164.490005,
          163.360001,
          158.820007,
          161.479996,
          160.199997,
          158.929993,
          151.449997,
          150.899994,
          157.050003,
          158.610001,
          160.509995,
          163.509995,
          165.509995,
          167.990005,
          171.059998,
          173.880005,
          172.169998,
          176.690002,
          178.550003,
          177.839996,
          174.029999,
          174.570007,
          177.5,
          172.360001,
          171.160004,
          171.779999,
          168.710007,
          168.020004,
          167.389999,
          170.619995,
          163.919998,
          165.020004,
          168.759995,
          168.910004,
          166.460007,
          161.119995,
          162.25,
          155.910004,
          159.25,
          161.839996,
          156.710007,
          158.149994,
          159.669998,
          163.850006,
          156.009995,
          154.929993,
          155.520004,
          153.5,
          142.770004,
          144.589996,
          145.550003,
          148.860001,
          146.850006,
          139.880005,
          139.089996,
          137.789993,
          140.809998,
          138.429993,
          137.389999,
          145.389999,
          149.070007,
          149.899994,
          147.830002,
          146.899994,
          147.029999,
          144.350006,
          148.580002,
          147.080002,
          140.279999,
          132.869995,
          133.130005,
          134.289993,
          132.080002,
          130.070007,
          133.419998,
          134.789993,
          136.820007,
          139.899994,
          142.699997,
          142.130005,
          137.460007,
          137.25,
          136.039993,
          137.770004,
          141.350006,
          143.289993,
          145.259995,
          145.669998,
          145.759995,
          170,
          166.979996,
          158.979996,
          163.5,
          162.449997,
          165.710007,
          170.160004,
          174.009995,
          174.75,
          174.139999,
          170.970001
         ],
         "type": "candlestick",
         "x": [
          "2022-01-13T00:00:00",
          "2022-01-14T00:00:00",
          "2022-01-18T00:00:00",
          "2022-01-19T00:00:00",
          "2022-01-20T00:00:00",
          "2022-01-21T00:00:00",
          "2022-01-24T00:00:00",
          "2022-01-25T00:00:00",
          "2022-01-26T00:00:00",
          "2022-01-27T00:00:00",
          "2022-01-28T00:00:00",
          "2022-01-31T00:00:00",
          "2022-02-01T00:00:00",
          "2022-02-02T00:00:00",
          "2022-02-03T00:00:00",
          "2022-02-04T00:00:00",
          "2022-02-07T00:00:00",
          "2022-02-08T00:00:00",
          "2022-02-09T00:00:00",
          "2022-02-10T00:00:00",
          "2022-02-11T00:00:00",
          "2022-02-14T00:00:00",
          "2022-02-15T00:00:00",
          "2022-02-16T00:00:00",
          "2022-02-17T00:00:00",
          "2022-02-18T00:00:00",
          "2022-02-22T00:00:00",
          "2022-02-23T00:00:00",
          "2022-02-24T00:00:00",
          "2022-02-25T00:00:00",
          "2022-02-28T00:00:00",
          "2022-03-01T00:00:00",
          "2022-03-02T00:00:00",
          "2022-03-03T00:00:00",
          "2022-03-04T00:00:00",
          "2022-03-07T00:00:00",
          "2022-03-08T00:00:00",
          "2022-03-09T00:00:00",
          "2022-03-10T00:00:00",
          "2022-03-11T00:00:00",
          "2022-03-14T00:00:00",
          "2022-03-15T00:00:00",
          "2022-03-16T00:00:00",
          "2022-03-17T00:00:00",
          "2022-03-18T00:00:00",
          "2022-03-21T00:00:00",
          "2022-03-22T00:00:00",
          "2022-03-23T00:00:00",
          "2022-03-24T00:00:00",
          "2022-03-25T00:00:00",
          "2022-03-28T00:00:00",
          "2022-03-29T00:00:00",
          "2022-03-30T00:00:00",
          "2022-03-31T00:00:00",
          "2022-04-01T00:00:00",
          "2022-04-04T00:00:00",
          "2022-04-05T00:00:00",
          "2022-04-06T00:00:00",
          "2022-04-07T00:00:00",
          "2022-04-08T00:00:00",
          "2022-04-11T00:00:00",
          "2022-04-12T00:00:00",
          "2022-04-13T00:00:00",
          "2022-04-14T00:00:00",
          "2022-04-18T00:00:00",
          "2022-04-19T00:00:00",
          "2022-04-20T00:00:00",
          "2022-04-21T00:00:00",
          "2022-04-22T00:00:00",
          "2022-04-25T00:00:00",
          "2022-04-26T00:00:00",
          "2022-04-27T00:00:00",
          "2022-04-28T00:00:00",
          "2022-04-29T00:00:00",
          "2022-05-02T00:00:00",
          "2022-05-03T00:00:00",
          "2022-05-04T00:00:00",
          "2022-05-05T00:00:00",
          "2022-05-06T00:00:00",
          "2022-05-09T00:00:00",
          "2022-05-10T00:00:00",
          "2022-05-11T00:00:00",
          "2022-05-12T00:00:00",
          "2022-05-13T00:00:00",
          "2022-05-16T00:00:00",
          "2022-05-17T00:00:00",
          "2022-05-18T00:00:00",
          "2022-05-19T00:00:00",
          "2022-05-20T00:00:00",
          "2022-05-23T00:00:00",
          "2022-05-24T00:00:00",
          "2022-05-25T00:00:00",
          "2022-05-26T00:00:00",
          "2022-05-27T00:00:00",
          "2022-05-31T00:00:00",
          "2022-06-01T00:00:00",
          "2022-06-02T00:00:00",
          "2022-06-03T00:00:00",
          "2022-06-06T00:00:00",
          "2022-06-07T00:00:00",
          "2022-06-08T00:00:00",
          "2022-06-09T00:00:00",
          "2022-06-10T00:00:00",
          "2022-06-13T00:00:00",
          "2022-06-14T00:00:00",
          "2022-06-15T00:00:00",
          "2022-06-16T00:00:00",
          "2022-06-17T00:00:00",
          "2022-06-21T00:00:00",
          "2022-06-22T00:00:00",
          "2022-06-23T00:00:00",
          "2022-06-24T00:00:00",
          "2022-06-27T00:00:00",
          "2022-06-28T00:00:00",
          "2022-06-29T00:00:00",
          "2022-06-30T00:00:00",
          "2022-07-01T00:00:00",
          "2022-07-05T00:00:00",
          "2022-07-06T00:00:00",
          "2022-07-07T00:00:00",
          "2022-07-08T00:00:00",
          "2022-07-11T00:00:00",
          "2022-07-12T00:00:00",
          "2022-01-19T00:00:00",
          "2022-01-20T00:00:00",
          "2022-01-25T00:00:00",
          "2022-01-26T00:00:00",
          "2022-01-27T00:00:00",
          "2022-01-28T00:00:00",
          "2022-01-31T00:00:00",
          "2022-02-01T00:00:00",
          "2022-02-02T00:00:00",
          "2022-02-10T00:00:00",
          "2022-02-15T00:00:00"
         ]
        }
       ],
       "layout": {
        "template": {
         "data": {
          "bar": [
           {
            "error_x": {
             "color": "#2a3f5f"
            },
            "error_y": {
             "color": "#2a3f5f"
            },
            "marker": {
             "line": {
              "color": "#E5ECF6",
              "width": 0.5
             },
             "pattern": {
              "fillmode": "overlay",
              "size": 10,
              "solidity": 0.2
             }
            },
            "type": "bar"
           }
          ],
          "barpolar": [
           {
            "marker": {
             "line": {
              "color": "#E5ECF6",
              "width": 0.5
             },
             "pattern": {
              "fillmode": "overlay",
              "size": 10,
              "solidity": 0.2
             }
            },
            "type": "barpolar"
           }
          ],
          "carpet": [
           {
            "aaxis": {
             "endlinecolor": "#2a3f5f",
             "gridcolor": "white",
             "linecolor": "white",
             "minorgridcolor": "white",
             "startlinecolor": "#2a3f5f"
            },
            "baxis": {
             "endlinecolor": "#2a3f5f",
             "gridcolor": "white",
             "linecolor": "white",
             "minorgridcolor": "white",
             "startlinecolor": "#2a3f5f"
            },
            "type": "carpet"
           }
          ],
          "choropleth": [
           {
            "colorbar": {
             "outlinewidth": 0,
             "ticks": ""
            },
            "type": "choropleth"
           }
          ],
          "contour": [
           {
            "colorbar": {
             "outlinewidth": 0,
             "ticks": ""
            },
            "colorscale": [
             [
              0,
              "#0d0887"
             ],
             [
              0.1111111111111111,
              "#46039f"
             ],
             [
              0.2222222222222222,
              "#7201a8"
             ],
             [
              0.3333333333333333,
              "#9c179e"
             ],
             [
              0.4444444444444444,
              "#bd3786"
             ],
             [
              0.5555555555555556,
              "#d8576b"
             ],
             [
              0.6666666666666666,
              "#ed7953"
             ],
             [
              0.7777777777777778,
              "#fb9f3a"
             ],
             [
              0.8888888888888888,
              "#fdca26"
             ],
             [
              1,
              "#f0f921"
             ]
            ],
            "type": "contour"
           }
          ],
          "contourcarpet": [
           {
            "colorbar": {
             "outlinewidth": 0,
             "ticks": ""
            },
            "type": "contourcarpet"
           }
          ],
          "heatmap": [
           {
            "colorbar": {
             "outlinewidth": 0,
             "ticks": ""
            },
            "colorscale": [
             [
              0,
              "#0d0887"
             ],
             [
              0.1111111111111111,
              "#46039f"
             ],
             [
              0.2222222222222222,
              "#7201a8"
             ],
             [
              0.3333333333333333,
              "#9c179e"
             ],
             [
              0.4444444444444444,
              "#bd3786"
             ],
             [
              0.5555555555555556,
              "#d8576b"
             ],
             [
              0.6666666666666666,
              "#ed7953"
             ],
             [
              0.7777777777777778,
              "#fb9f3a"
             ],
             [
              0.8888888888888888,
              "#fdca26"
             ],
             [
              1,
              "#f0f921"
             ]
            ],
            "type": "heatmap"
           }
          ],
          "heatmapgl": [
           {
            "colorbar": {
             "outlinewidth": 0,
             "ticks": ""
            },
            "colorscale": [
             [
              0,
              "#0d0887"
             ],
             [
              0.1111111111111111,
              "#46039f"
             ],
             [
              0.2222222222222222,
              "#7201a8"
             ],
             [
              0.3333333333333333,
              "#9c179e"
             ],
             [
              0.4444444444444444,
              "#bd3786"
             ],
             [
              0.5555555555555556,
              "#d8576b"
             ],
             [
              0.6666666666666666,
              "#ed7953"
             ],
             [
              0.7777777777777778,
              "#fb9f3a"
             ],
             [
              0.8888888888888888,
              "#fdca26"
             ],
             [
              1,
              "#f0f921"
             ]
            ],
            "type": "heatmapgl"
           }
          ],
          "histogram": [
           {
            "marker": {
             "pattern": {
              "fillmode": "overlay",
              "size": 10,
              "solidity": 0.2
             }
            },
            "type": "histogram"
           }
          ],
          "histogram2d": [
           {
            "colorbar": {
             "outlinewidth": 0,
             "ticks": ""
            },
            "colorscale": [
             [
              0,
              "#0d0887"
             ],
             [
              0.1111111111111111,
              "#46039f"
             ],
             [
              0.2222222222222222,
              "#7201a8"
             ],
             [
              0.3333333333333333,
              "#9c179e"
             ],
             [
              0.4444444444444444,
              "#bd3786"
             ],
             [
              0.5555555555555556,
              "#d8576b"
             ],
             [
              0.6666666666666666,
              "#ed7953"
             ],
             [
              0.7777777777777778,
              "#fb9f3a"
             ],
             [
              0.8888888888888888,
              "#fdca26"
             ],
             [
              1,
              "#f0f921"
             ]
            ],
            "type": "histogram2d"
           }
          ],
          "histogram2dcontour": [
           {
            "colorbar": {
             "outlinewidth": 0,
             "ticks": ""
            },
            "colorscale": [
             [
              0,
              "#0d0887"
             ],
             [
              0.1111111111111111,
              "#46039f"
             ],
             [
              0.2222222222222222,
              "#7201a8"
             ],
             [
              0.3333333333333333,
              "#9c179e"
             ],
             [
              0.4444444444444444,
              "#bd3786"
             ],
             [
              0.5555555555555556,
              "#d8576b"
             ],
             [
              0.6666666666666666,
              "#ed7953"
             ],
             [
              0.7777777777777778,
              "#fb9f3a"
             ],
             [
              0.8888888888888888,
              "#fdca26"
             ],
             [
              1,
              "#f0f921"
             ]
            ],
            "type": "histogram2dcontour"
           }
          ],
          "mesh3d": [
           {
            "colorbar": {
             "outlinewidth": 0,
             "ticks": ""
            },
            "type": "mesh3d"
           }
          ],
          "parcoords": [
           {
            "line": {
             "colorbar": {
              "outlinewidth": 0,
              "ticks": ""
             }
            },
            "type": "parcoords"
           }
          ],
          "pie": [
           {
            "automargin": true,
            "type": "pie"
           }
          ],
          "scatter": [
           {
            "fillpattern": {
             "fillmode": "overlay",
             "size": 10,
             "solidity": 0.2
            },
            "type": "scatter"
           }
          ],
          "scatter3d": [
           {
            "line": {
             "colorbar": {
              "outlinewidth": 0,
              "ticks": ""
             }
            },
            "marker": {
             "colorbar": {
              "outlinewidth": 0,
              "ticks": ""
             }
            },
            "type": "scatter3d"
           }
          ],
          "scattercarpet": [
           {
            "marker": {
             "colorbar": {
              "outlinewidth": 0,
              "ticks": ""
             }
            },
            "type": "scattercarpet"
           }
          ],
          "scattergeo": [
           {
            "marker": {
             "colorbar": {
              "outlinewidth": 0,
              "ticks": ""
             }
            },
            "type": "scattergeo"
           }
          ],
          "scattergl": [
           {
            "marker": {
             "colorbar": {
              "outlinewidth": 0,
              "ticks": ""
             }
            },
            "type": "scattergl"
           }
          ],
          "scattermapbox": [
           {
            "marker": {
             "colorbar": {
              "outlinewidth": 0,
              "ticks": ""
             }
            },
            "type": "scattermapbox"
           }
          ],
          "scatterpolar": [
           {
            "marker": {
             "colorbar": {
              "outlinewidth": 0,
              "ticks": ""
             }
            },
            "type": "scatterpolar"
           }
          ],
          "scatterpolargl": [
           {
            "marker": {
             "colorbar": {
              "outlinewidth": 0,
              "ticks": ""
             }
            },
            "type": "scatterpolargl"
           }
          ],
          "scatterternary": [
           {
            "marker": {
             "colorbar": {
              "outlinewidth": 0,
              "ticks": ""
             }
            },
            "type": "scatterternary"
           }
          ],
          "surface": [
           {
            "colorbar": {
             "outlinewidth": 0,
             "ticks": ""
            },
            "colorscale": [
             [
              0,
              "#0d0887"
             ],
             [
              0.1111111111111111,
              "#46039f"
             ],
             [
              0.2222222222222222,
              "#7201a8"
             ],
             [
              0.3333333333333333,
              "#9c179e"
             ],
             [
              0.4444444444444444,
              "#bd3786"
             ],
             [
              0.5555555555555556,
              "#d8576b"
             ],
             [
              0.6666666666666666,
              "#ed7953"
             ],
             [
              0.7777777777777778,
              "#fb9f3a"
             ],
             [
              0.8888888888888888,
              "#fdca26"
             ],
             [
              1,
              "#f0f921"
             ]
            ],
            "type": "surface"
           }
          ],
          "table": [
           {
            "cells": {
             "fill": {
              "color": "#EBF0F8"
             },
             "line": {
              "color": "white"
             }
            },
            "header": {
             "fill": {
              "color": "#C8D4E3"
             },
             "line": {
              "color": "white"
             }
            },
            "type": "table"
           }
          ]
         },
         "layout": {
          "annotationdefaults": {
           "arrowcolor": "#2a3f5f",
           "arrowhead": 0,
           "arrowwidth": 1
          },
          "autotypenumbers": "strict",
          "coloraxis": {
           "colorbar": {
            "outlinewidth": 0,
            "ticks": ""
           }
          },
          "colorscale": {
           "diverging": [
            [
             0,
             "#8e0152"
            ],
            [
             0.1,
             "#c51b7d"
            ],
            [
             0.2,
             "#de77ae"
            ],
            [
             0.3,
             "#f1b6da"
            ],
            [
             0.4,
             "#fde0ef"
            ],
            [
             0.5,
             "#f7f7f7"
            ],
            [
             0.6,
             "#e6f5d0"
            ],
            [
             0.7,
             "#b8e186"
            ],
            [
             0.8,
             "#7fbc41"
            ],
            [
             0.9,
             "#4d9221"
            ],
            [
             1,
             "#276419"
            ]
           ],
           "sequential": [
            [
             0,
             "#0d0887"
            ],
            [
             0.1111111111111111,
             "#46039f"
            ],
            [
             0.2222222222222222,
             "#7201a8"
            ],
            [
             0.3333333333333333,
             "#9c179e"
            ],
            [
             0.4444444444444444,
             "#bd3786"
            ],
            [
             0.5555555555555556,
             "#d8576b"
            ],
            [
             0.6666666666666666,
             "#ed7953"
            ],
            [
             0.7777777777777778,
             "#fb9f3a"
            ],
            [
             0.8888888888888888,
             "#fdca26"
            ],
            [
             1,
             "#f0f921"
            ]
           ],
           "sequentialminus": [
            [
             0,
             "#0d0887"
            ],
            [
             0.1111111111111111,
             "#46039f"
            ],
            [
             0.2222222222222222,
             "#7201a8"
            ],
            [
             0.3333333333333333,
             "#9c179e"
            ],
            [
             0.4444444444444444,
             "#bd3786"
            ],
            [
             0.5555555555555556,
             "#d8576b"
            ],
            [
             0.6666666666666666,
             "#ed7953"
            ],
            [
             0.7777777777777778,
             "#fb9f3a"
            ],
            [
             0.8888888888888888,
             "#fdca26"
            ],
            [
             1,
             "#f0f921"
            ]
           ]
          },
          "colorway": [
           "#636efa",
           "#EF553B",
           "#00cc96",
           "#ab63fa",
           "#FFA15A",
           "#19d3f3",
           "#FF6692",
           "#B6E880",
           "#FF97FF",
           "#FECB52"
          ],
          "font": {
           "color": "#2a3f5f"
          },
          "geo": {
           "bgcolor": "white",
           "lakecolor": "white",
           "landcolor": "#E5ECF6",
           "showlakes": true,
           "showland": true,
           "subunitcolor": "white"
          },
          "hoverlabel": {
           "align": "left"
          },
          "hovermode": "closest",
          "mapbox": {
           "style": "light"
          },
          "paper_bgcolor": "white",
          "plot_bgcolor": "#E5ECF6",
          "polar": {
           "angularaxis": {
            "gridcolor": "white",
            "linecolor": "white",
            "ticks": ""
           },
           "bgcolor": "#E5ECF6",
           "radialaxis": {
            "gridcolor": "white",
            "linecolor": "white",
            "ticks": ""
           }
          },
          "scene": {
           "xaxis": {
            "backgroundcolor": "#E5ECF6",
            "gridcolor": "white",
            "gridwidth": 2,
            "linecolor": "white",
            "showbackground": true,
            "ticks": "",
            "zerolinecolor": "white"
           },
           "yaxis": {
            "backgroundcolor": "#E5ECF6",
            "gridcolor": "white",
            "gridwidth": 2,
            "linecolor": "white",
            "showbackground": true,
            "ticks": "",
            "zerolinecolor": "white"
           },
           "zaxis": {
            "backgroundcolor": "#E5ECF6",
            "gridcolor": "white",
            "gridwidth": 2,
            "linecolor": "white",
            "showbackground": true,
            "ticks": "",
            "zerolinecolor": "white"
           }
          },
          "shapedefaults": {
           "line": {
            "color": "#2a3f5f"
           }
          },
          "ternary": {
           "aaxis": {
            "gridcolor": "white",
            "linecolor": "white",
            "ticks": ""
           },
           "baxis": {
            "gridcolor": "white",
            "linecolor": "white",
            "ticks": ""
           },
           "bgcolor": "#E5ECF6",
           "caxis": {
            "gridcolor": "white",
            "linecolor": "white",
            "ticks": ""
           }
          },
          "title": {
           "x": 0.05
          },
          "xaxis": {
           "automargin": true,
           "gridcolor": "white",
           "linecolor": "white",
           "ticks": "",
           "title": {
            "standoff": 15
           },
           "zerolinecolor": "white",
           "zerolinewidth": 2
          },
          "yaxis": {
           "automargin": true,
           "gridcolor": "white",
           "linecolor": "white",
           "ticks": "",
           "title": {
            "standoff": 15
           },
           "zerolinecolor": "white",
           "zerolinewidth": 2
          }
         }
        }
       }
      }
     },
     "metadata": {},
     "output_type": "display_data"
    }
   ],
   "source": [
    "open_data = x['AAPL_OPEN']\n",
    "high_data = x['AAPL_HIGH']\n",
    "low_data = x['AAPL_LOW']\n",
    "close_data = x['AAPL_CLOSE']\n",
    "dates = x['Date']\n",
    "\n",
    "fig = go.Figure(data=[go.Candlestick(x=dates, open=open_data,\n",
    "                     high=high_data, \n",
    "                     low=low_data, \n",
    "                     close=close_data)])\n",
    "\n",
    "                     \n",
    "fig.show()\n"
   ]
  }
 ],
 "metadata": {
  "kernelspec": {
   "display_name": "Python 3.10.5 ('stox': venv)",
   "language": "python",
   "name": "python3"
  },
  "language_info": {
   "codemirror_mode": {
    "name": "ipython",
    "version": 3
   },
   "file_extension": ".py",
   "mimetype": "text/x-python",
   "name": "python",
   "nbconvert_exporter": "python",
   "pygments_lexer": "ipython3",
   "version": "3.10.5"
  },
  "orig_nbformat": 4,
  "vscode": {
   "interpreter": {
    "hash": "6b289ff3a72ded2e96945998bbbe53b37e55056e9eaaaaf2ed1844bdaac56f73"
   }
  }
 },
 "nbformat": 4,
 "nbformat_minor": 2
}
