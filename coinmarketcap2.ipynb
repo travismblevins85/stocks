{
 "cells": [
  {
   "cell_type": "code",
   "execution_count": 8,
   "metadata": {},
   "outputs": [],
   "source": [
    "import json\n",
    "from bs4 import BeautifulSoup as bs4\n",
    "import pandas as pd\n",
    "import requests\n",
    "import lxml"
   ]
  },
  {
   "cell_type": "code",
   "execution_count": 10,
   "metadata": {},
   "outputs": [
    {
     "name": "stdout",
     "output_type": "stream",
     "text": [
      "Historical Snapshot - 05 September 2021 | CoinMarketCapCryptos:  20,168Exchanges:  502Market Cap:  $957,722,829,421.77824h Vol:  $55,570,413,921.13Dominance:  BTC: 43.1% ETH: 15.4%ETH Gas:  35 GweiLog InSign upCryptocurrenciesCRYPTOCURRENCIESRankingRecently AddedCategoriesSpotlightGainers & LosersGlobal ChartsHistorical SnapshotsPrice EstimatesPolkadot ParachainsLegal Tender CountriesFiats / Companies RankingsNFTOverall NFT StatsTop CollectionsUpcoming SalesExchangesSpotDerivativesDEXCommunityFeedsArticlesProductsPRODUCTSConverterMobile AppsBlockchain ExplorerJobs BoardCrypto APISite WidgetsCAMPAIGNSFree AirdropsDiamond RewardsReferral ProgramLearn & EarnCALENDARSICO CalendarEvents CalendarLearnAlexandriaVideosMarket UpdatesGlossaryWhere to BuyNewsletterMethodologyCryptos:  20,168Exchanges:  502Market Cap:  $957,722,829,421.77824h Vol:  $55,570,413,921.13Dominance:  BTC: 43.1% ETH: 15.4%ETH Gas:  35 GweiHistorical Snapshot - 05 September 2021USD← Previous WeekNext Week →View AllRankNameSymbolMarket CapPriceCirculating SupplyVolume (24h)% 1h% 24h% 7dRankNameRankNameSymbolMarket CapPriceCirculating SupplyVolume (24h)% 1h% 24h% 7d1BTCBitcoinBTC$973,354,882,472.78$51,753.4118,807,550 BTC$30,322,676,318.63-0.16%3.62%5.99%2ETHEthereumETH$463,997,267,858.18$3,952.13117,404,250 ETH$18,371,468,576.210.08%1.65%22.47%3ADACardanoADA$93,187,277,515.33$2.9132,014,049,408 ADA$4,259,327,908.24-0.13%2.75%1.92%4BNBBinance CoinBNB$84,845,287,773.55$504.62168,137,036 BNB *$1,899,639,213.990.14%1.31%5.07%5USDTTetherUSDT$66,796,325,582.43$1.0066,778,877,886 USDT *$80,204,406,658.140.00%-0.01%-0.10%6XRPXRPXRP$60,760,906,594.85$1.3146,542,338,341 XRP *$4,077,886,190.400.92%3.96%14.43%7SOLSolanaSOL$41,399,255,561.46$142.07291,398,606 SOL *$2,996,918,104.87-0.61%2.13%50.39%8DOGEDogecoinDOGE$41,252,120,931.82$0.3145131,155,870,131 DOGE$2,393,033,526.620.32%5.06%11.88%9DOTPolkadotDOT$33,981,408,465.06$34.41987,579,315 DOT *$1,731,805,766.740.62%6.14%33.72%10USDCUSD CoinUSDC$27,797,091,080.19$0.999627,808,907,632 USDC *$2,324,755,018.190.01%-0.04%-0.09%11UNIUniswapUNI$17,960,589,699.36$29.36611,643,724 UNI *$445,642,192.200.51%2.62%9.52%12LTCLitecoinLTC$15,442,148,516.16$231.3366,752,615 LTC$3,796,951,481.052.64%8.94%32.41%13LINKChainlinkLINK$15,093,614,987.86$33.50450,509,554 LINK *$1,590,082,788.351.55%12.06%29.79%14BCHBitcoin CashBCH$14,395,929,745.59$764.2018,837,969 BCH$3,208,380,107.922.45%7.70%15.76%15LUNATerraLUNA$13,814,651,400.38$34.49400,578,112 LUNA *$863,282,666.900.67%9.81%3.47%16BUSDBinance USDBUSD$12,604,234,548.17$0.999812,606,863,534 BUSD *$5,379,863,765.980.01%-0.03%-0.06%17ICPInternet ComputerICP$12,457,122,104.38$79.27157,140,097 ICP *$1,456,750,045.30-2.74%0.76%9.92%18FILFilecoinFIL$11,607,208,015.22$113.60102,171,862 FIL$3,834,940,578.122.11%19.71%54.20%19MATICPolygonMATIC$11,104,723,325.82$1.686,611,996,838 MATIC *$2,222,482,138.89-0.18%-3.14%18.21%20AVAXAvalancheAVAX$10,595,363,408.10$48.18219,916,980 AVAX *$870,312,119.47-0.14%2.20%1.41%Wrapped BitcoinVeChainEthereum ClassicStellarTHETATRONDaiFTX TokenEOSCosmosMoneroAavePancakeSwapAxie InfinityIOTAThe GraphTezosCrypto.com CoinAlgorandNeoKlaytnBitcoin BEP2QuantBitcoin SVMakerElrondKusamaBitTorrentWavesFantomSHIBA INUHedera HashgraphCompoundUNUS SED LEONEAR ProtocolDashHuobi TokenAmpChilizRevainTerraUSDDecredTHORChainHeliumHoloZcashNEMTheta FuelStacksDecentralandEnjin CoinSushiSwapXinFin NetworkCeloArweaveQtumyearn.financeZilliqaCelsiusFlowSynthetixBitcoin GoldBasic Attention TokenRavencoinHarmonyTrueUSDOKBTelcoinHorizenOMG NetworkICONSiacoinMdexPerpetual ProtocolAudiusOntologyKuCoin TokenNexoBancor0xCurve DAO TokenDigiByteIOSTNanoPax DollarAnkrMinaUMAThe SandboxSwissBorgRenrenBTCVoyager TokenIoTeXKava.ioSwipeDent1inchLoopringReserve RightsWAXOcean ProtocolLiskGolemBakeryTokenErgoAlpha Finance LabStorjSingularityNETWINkLinkMediBlocVergeUnibrightBitcoin DiamondSKALE NetworkVeThor TokenFetch.aiNumeraireWazirXNervos NetworkNeutrino USDOrigin ProtocolGnosisLivepeerHUSDPolymathInjective ProtocolSerumMyNeighborAliceStormXiExec RLCVenusFei ProtocolEnergy Web TokenConstellationStatusCivicReefArdorStratisOntology GasAugurBand ProtocolNKNGateTokenPrometeusaelfCartesiConfluxCeler NetworkPAX GoldOrbsFUNTokenCOTIWOO NetworkOrchidHiveTomoChainBitcoin Standard Hashrate TokenASDMaidSafeCoinUltraAragonMetalSteemArkOasis NetworkRequestSmooth Love PotionBadger DAOMVLDigitalBitsDODOBalancerNuCypherXYOUtrustPhala NetworkWanchainGemini DollarLoad More* Not Mineable← Previous WeekNext Week →View AllProductsBlockchain ExplorerCrypto APICrypto IndicesJobs BoardSitemapCompanyAbout usTerms of usePrivacy PolicyCommunity RulesDisclaimerMethodologyCareersWe’re hiring!SupportRequest FormContact SupportFAQGlossarySocialsFacebookTwitterTelegramInstagramInteractive Chat© 2022 CoinMarketCap. All rights reserved   \n"
     ]
    },
    {
     "ename": "TypeError",
     "evalue": "find() takes no keyword arguments",
     "output_type": "error",
     "traceback": [
      "\u001b[1;31m---------------------------------------------------------------------------\u001b[0m",
      "\u001b[1;31mTypeError\u001b[0m                                 Traceback (most recent call last)",
      "\u001b[1;32mc:\\Users\\travi\\Desktop\\Stox\\coinmarketcap2.ipynb Cell 2'\u001b[0m in \u001b[0;36m<cell line: 5>\u001b[1;34m()\u001b[0m\n\u001b[0;32m      <a href='vscode-notebook-cell:/c%3A/Users/travi/Desktop/Stox/coinmarketcap2.ipynb#ch0000001?line=1'>2</a>\u001b[0m soup \u001b[39m=\u001b[39m bs4(r\u001b[39m.\u001b[39mtext, \u001b[39m'\u001b[39m\u001b[39mlxml\u001b[39m\u001b[39m'\u001b[39m)\u001b[39m.\u001b[39mtext\n\u001b[0;32m      <a href='vscode-notebook-cell:/c%3A/Users/travi/Desktop/Stox/coinmarketcap2.ipynb#ch0000001?line=2'>3</a>\u001b[0m \u001b[39mprint\u001b[39m(soup)\n\u001b[1;32m----> <a href='vscode-notebook-cell:/c%3A/Users/travi/Desktop/Stox/coinmarketcap2.ipynb#ch0000001?line=4'>5</a>\u001b[0m data \u001b[39m=\u001b[39m json\u001b[39m.\u001b[39mloads(soup\u001b[39m.\u001b[39;49mfind(\u001b[39m'\u001b[39;49m\u001b[39mscript\u001b[39;49m\u001b[39m'\u001b[39;49m, \u001b[39mtype\u001b[39;49m\u001b[39m=\u001b[39;49m\u001b[39m'\u001b[39;49m\u001b[39mapplication/ld+json\u001b[39;49m\u001b[39m'\u001b[39;49m, \u001b[39mid\u001b[39;49m\u001b[39m=\u001b[39;49m\u001b[39m'\u001b[39;49m\u001b[39m__NEXT_DATA__\u001b[39;49m\u001b[39m'\u001b[39;49m)\u001b[39m.\u001b[39mtext)\n\u001b[0;32m      <a href='vscode-notebook-cell:/c%3A/Users/travi/Desktop/Stox/coinmarketcap2.ipynb#ch0000001?line=6'>7</a>\u001b[0m historical_data \u001b[39m=\u001b[39m data[\u001b[39m'\u001b[39m\u001b[39mlistingHistorical\u001b[39m\u001b[39m'\u001b[39m][\u001b[39m'\u001b[39m\u001b[39mdata\u001b[39m\u001b[39m'\u001b[39m]\n\u001b[0;32m      <a href='vscode-notebook-cell:/c%3A/Users/travi/Desktop/Stox/coinmarketcap2.ipynb#ch0000001?line=7'>8</a>\u001b[0m \u001b[39mprint\u001b[39m(historical_data)\n",
      "\u001b[1;31mTypeError\u001b[0m: find() takes no keyword arguments"
     ]
    }
   ],
   "source": [
    "r = requests.get('https://coinmarketcap.com/historical/20210905/')\n",
    "soup = bs4(r.text, 'lxml').text\n",
    "print(soup)\n",
    "\n",
    "data = json.loads(soup.find('script', type='application/ld+json', id='__NEXT_DATA__').text)\n",
    "\n",
    "historical_data = data['listingHistorical']['data']\n",
    "print(historical_data)"
   ]
  }
 ],
 "metadata": {
  "kernelspec": {
   "display_name": "Python 3.10.5 ('venv': venv)",
   "language": "python",
   "name": "python3"
  },
  "language_info": {
   "codemirror_mode": {
    "name": "ipython",
    "version": 3
   },
   "file_extension": ".py",
   "mimetype": "text/x-python",
   "name": "python",
   "nbconvert_exporter": "python",
   "pygments_lexer": "ipython3",
   "version": "3.10.5"
  },
  "orig_nbformat": 4,
  "vscode": {
   "interpreter": {
    "hash": "187d4047809db7fad23631ebdde01d609bfa49ad6af2cad894bfbc3976e77d85"
   }
  }
 },
 "nbformat": 4,
 "nbformat_minor": 2
}
